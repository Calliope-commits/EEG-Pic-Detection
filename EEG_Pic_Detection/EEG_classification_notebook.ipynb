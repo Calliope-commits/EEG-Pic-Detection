{
  "cells": [
    {
      "cell_type": "markdown",
      "source": [
        "How to run the code: import PySpark first and load the data. Running 'Data Overview' Part is not necessary as its goal is just to allow the user to see how the data is.\n",
        "'Compare Data' has to be run because it is used both for displaying discriminative variables but most importantly to build the DataFrame.\n",
        "Once it is done, 'Gradient Boosted Trees' builds the model (average of 55 seconds of building time).\n",
        "'Transform data set' imports the testset we have to use (do change if need be). Finally, run 'Save Prediction CSV' saves in the folder the CSV (By default, the name is 'Predictions0.csv')."
      ],
      "metadata": {
        "id": "iHCqBgKKexbv"
      }
    },
    {
      "cell_type": "markdown",
      "metadata": {
        "id": "0x4-gwg1M9QV"
      },
      "source": [
        "# Import PySpark"
      ]
    },
    {
      "cell_type": "code",
      "execution_count": null,
      "metadata": {
        "id": "poZ1YeXnM7TS"
      },
      "outputs": [],
      "source": [
        "!apt-get install openjdk-8-jdk-headless -qq > /dev/null\n",
        "!wget -q https://archive.apache.org/dist/spark/spark-2.4.4/spark-2.4.4-bin-hadoop2.7.tgz\n",
        "!tar xf spark-2.4.4-bin-hadoop2.7.tgz\n",
        "#!conda install -c conda-forge pyspark=2.4.4\n",
        "!pip install -q findspark"
      ]
    },
    {
      "cell_type": "code",
      "execution_count": null,
      "metadata": {
        "id": "_Zc696waMXLe"
      },
      "outputs": [],
      "source": [
        "import os\n",
        "os.environ[\"JAVA_HOME\"] = \"/usr/lib/jvm/java-8-openjdk-amd64\"\n",
        "os.environ[\"SPARK_HOME\"] = \"/content/spark-2.4.4-bin-hadoop2.7\"\n",
        "\n",
        "import findspark\n",
        "findspark.init()\n",
        "\n",
        "from pyspark.sql import SparkSession\n",
        "spark = SparkSession.builder.master(\"local[*]\").getOrCreate()\n",
        "sc = spark.sparkContext\n",
        "\n",
        "import numpy as np"
      ]
    },
    {
      "cell_type": "code",
      "source": [
        "!cat /proc/cpuinfo"
      ],
      "metadata": {
        "colab": {
          "base_uri": "https://localhost:8080/"
        },
        "id": "5vPKHpNkZRI8",
        "outputId": "d85ffb27-fa59-4f3b-cf52-b8135cb07ce7"
      },
      "execution_count": null,
      "outputs": [
        {
          "output_type": "stream",
          "name": "stdout",
          "text": [
            "processor\t: 0\n",
            "vendor_id\t: GenuineIntel\n",
            "cpu family\t: 6\n",
            "model\t\t: 79\n",
            "model name\t: Intel(R) Xeon(R) CPU @ 2.20GHz\n",
            "stepping\t: 0\n",
            "microcode\t: 0x1\n",
            "cpu MHz\t\t: 2199.998\n",
            "cache size\t: 56320 KB\n",
            "physical id\t: 0\n",
            "siblings\t: 2\n",
            "core id\t\t: 0\n",
            "cpu cores\t: 1\n",
            "apicid\t\t: 0\n",
            "initial apicid\t: 0\n",
            "fpu\t\t: yes\n",
            "fpu_exception\t: yes\n",
            "cpuid level\t: 13\n",
            "wp\t\t: yes\n",
            "flags\t\t: fpu vme de pse tsc msr pae mce cx8 apic sep mtrr pge mca cmov pat pse36 clflush mmx fxsr sse sse2 ss ht syscall nx pdpe1gb rdtscp lm constant_tsc rep_good nopl xtopology nonstop_tsc cpuid tsc_known_freq pni pclmulqdq ssse3 fma cx16 pcid sse4_1 sse4_2 x2apic movbe popcnt aes xsave avx f16c rdrand hypervisor lahf_lm abm 3dnowprefetch invpcid_single ssbd ibrs ibpb stibp fsgsbase tsc_adjust bmi1 hle avx2 smep bmi2 erms invpcid rtm rdseed adx smap xsaveopt arat md_clear arch_capabilities\n",
            "bugs\t\t: cpu_meltdown spectre_v1 spectre_v2 spec_store_bypass l1tf mds swapgs taa\n",
            "bogomips\t: 4399.99\n",
            "clflush size\t: 64\n",
            "cache_alignment\t: 64\n",
            "address sizes\t: 46 bits physical, 48 bits virtual\n",
            "power management:\n",
            "\n",
            "processor\t: 1\n",
            "vendor_id\t: GenuineIntel\n",
            "cpu family\t: 6\n",
            "model\t\t: 79\n",
            "model name\t: Intel(R) Xeon(R) CPU @ 2.20GHz\n",
            "stepping\t: 0\n",
            "microcode\t: 0x1\n",
            "cpu MHz\t\t: 2199.998\n",
            "cache size\t: 56320 KB\n",
            "physical id\t: 0\n",
            "siblings\t: 2\n",
            "core id\t\t: 0\n",
            "cpu cores\t: 1\n",
            "apicid\t\t: 1\n",
            "initial apicid\t: 1\n",
            "fpu\t\t: yes\n",
            "fpu_exception\t: yes\n",
            "cpuid level\t: 13\n",
            "wp\t\t: yes\n",
            "flags\t\t: fpu vme de pse tsc msr pae mce cx8 apic sep mtrr pge mca cmov pat pse36 clflush mmx fxsr sse sse2 ss ht syscall nx pdpe1gb rdtscp lm constant_tsc rep_good nopl xtopology nonstop_tsc cpuid tsc_known_freq pni pclmulqdq ssse3 fma cx16 pcid sse4_1 sse4_2 x2apic movbe popcnt aes xsave avx f16c rdrand hypervisor lahf_lm abm 3dnowprefetch invpcid_single ssbd ibrs ibpb stibp fsgsbase tsc_adjust bmi1 hle avx2 smep bmi2 erms invpcid rtm rdseed adx smap xsaveopt arat md_clear arch_capabilities\n",
            "bugs\t\t: cpu_meltdown spectre_v1 spectre_v2 spec_store_bypass l1tf mds swapgs taa\n",
            "bogomips\t: 4399.99\n",
            "clflush size\t: 64\n",
            "cache_alignment\t: 64\n",
            "address sizes\t: 46 bits physical, 48 bits virtual\n",
            "power management:\n",
            "\n"
          ]
        }
      ]
    },
    {
      "cell_type": "markdown",
      "metadata": {
        "id": "HTakaNkUOsWr"
      },
      "source": [
        "# Load Data **(Change path of data files depending on your workspace)**."
      ]
    },
    {
      "cell_type": "code",
      "execution_count": null,
      "metadata": {
        "colab": {
          "base_uri": "https://localhost:8080/"
        },
        "id": "7dGAPv3-OwrO",
        "outputId": "aef8f9ce-c055-4ed3-d901-7f60512c0e40"
      },
      "outputs": [
        {
          "output_type": "stream",
          "name": "stdout",
          "text": [
            "Mounted at /content/drive/\n"
          ]
        }
      ],
      "source": [
        "from google.colab import drive\n",
        "drive.mount('/content/drive/')"
      ]
    },
    {
      "cell_type": "code",
      "execution_count": null,
      "metadata": {
        "id": "L4uS-cjEz0ng"
      },
      "outputs": [],
      "source": [
        "# Load data from file.\n",
        "import matplotlib.pyplot as plt\n",
        "file_p = \"/content/drive/MyDrive/ColabNotebooks/Project/exp1-train-400pos.bin\" # TODO: Change path according to your workspace.\n",
        "file_n = \"/content/drive/MyDrive/ColabNotebooks/Project/exp1-train-2000neg.bin\"\n",
        "file_p2 = \"/content/drive/MyDrive/ColabNotebooks/Project/exp2-train-400pos.bin\"\n",
        "file_n2 = \"/content/drive/MyDrive/ColabNotebooks/Project/exp2-train-2000neg.bin\"\n",
        "\n",
        "tdp1 = np.fromfile(file_p, dtype=np.float32).reshape([400, 5, 768]) # Positive instances of first batch.\n",
        "tdn1 = np.fromfile(file_n, dtype=np.float32).reshape([2000, 5, 768]) # Negative instances of first batch.\n",
        "tdp2 = np.fromfile(file_p2, dtype=np.float32).reshape([400, 5, 768]) # Positive instances of second batch.\n",
        "tdn2 = np.fromfile(file_n2, dtype=np.float32).reshape([2000, 5, 768]) # Negative instances of second batch."
      ]
    },
    {
      "cell_type": "markdown",
      "source": [
        "# Data Overview"
      ],
      "metadata": {
        "id": "4U-41rLCO0C9"
      }
    },
    {
      "cell_type": "code",
      "source": [
        "# output data examples\n",
        "import random\n",
        "print(f\"mean of positive spikes 1 :{np.mean(np.absolute(tdp1))}\")\n",
        "print(f\"mean of positive spikes 2 :{np.mean(np.absolute(tdp2))}\")\n",
        "print(f\"mean of negative spikes 1 :{np.mean(np.absolute(tdn1))}\")\n",
        "print(f\"mean of negative spikes 2 :{np.mean(np.absolute(tdn2))}\")\n",
        "\n",
        "y = random.choice(tdp2)\n",
        "print(y.size)\n",
        "x = np.arange(0, 768)\n",
        "for value in y :\n",
        "  plt.plot(x,value)"
      ],
      "metadata": {
        "colab": {
          "base_uri": "https://localhost:8080/",
          "height": 351
        },
        "id": "v0jOkD4bO2d6",
        "outputId": "15a33ae4-3aea-4986-8d2c-97b5f464b7fc"
      },
      "execution_count": null,
      "outputs": [
        {
          "output_type": "stream",
          "name": "stdout",
          "text": [
            "mean of positive spikes 1 :82.71910095214844\n",
            "mean of positive spikes 2 :34.134647369384766\n",
            "mean of negative spikes 1 :38.44295120239258\n",
            "mean of negative spikes 2 :13.063738822937012\n",
            "3840\n"
          ]
        },
        {
          "output_type": "display_data",
          "data": {
            "text/plain": [
              "<Figure size 432x288 with 1 Axes>"
            ],
            "image/png": "[encoded data removed]"
          },
          "metadata": {
            "needs_background": "light"
          }
        }
      ]
    },
    {
      "cell_type": "code",
      "source": [
        "def get_nbr_intersection(sequence):\n",
        "  j = 0\n",
        "  nbr_intersection = 0\n",
        "  val = []\n",
        "  order = [0, 1, 2, 3, 4]\n",
        "  for i in sequence:\n",
        "    j+= 0.0005\n",
        "    val.append(j+ (np.array(i) / np.array(i).sum()) / np.array(i).max())\n",
        "  for o in range(768):\n",
        "    values = [val[v][o] for v in order]\n",
        "    new_values = sorted(values)\n",
        "    if not(values == new_values):\n",
        "      new_order = []\n",
        "      for j in range(5):\n",
        "        if not(values[j] == new_values[j]):\n",
        "          nbr_intersection += 1\n",
        "      for j in range(5):\n",
        "        index_min = np.argmin(values)\n",
        "        new_order.append(index_min)\n",
        "        values[index_min] = 1000\n",
        "      order = new_order\n",
        "  return nbr_intersection\n",
        "\n",
        "def get_normalized_sequence(sequence, j):\n",
        "  return j + normalize_sequence(sequence)\n",
        "\n",
        "def normalize_sequence(sequence):\n",
        "    return (np.array(sequence) / np.array(sequence).sum()) / np.array(sequence).max()\n",
        "\n"
      ],
      "metadata": {
        "id": "T6KL0OHcPlDD"
      },
      "execution_count": null,
      "outputs": []
    },
    {
      "cell_type": "code",
      "source": [
        "sub = random.choice(tdn2)\n",
        "addit = 0.0005\n",
        "\n",
        "j=0\n",
        "for i in sub:\n",
        "  j+= addit\n",
        "  plt.plot(x, normalize_sequence(i))\n"
      ],
      "metadata": {
        "colab": {
          "base_uri": "https://localhost:8080/",
          "height": 265
        },
        "id": "UzqWwx9nPl3t",
        "outputId": "b4cfb46f-0318-466c-b72b-6f71206b0965"
      },
      "execution_count": null,
      "outputs": [
        {
          "output_type": "display_data",
          "data": {
            "text/plain": [
              "<Figure size 432x288 with 1 Axes>"
            ],
            "image/png": "[encoded data removed]"
          },
          "metadata": {
            "needs_background": "light"
          }
        }
      ]
    },
    {
      "cell_type": "markdown",
      "metadata": {
        "id": "XtbC3B8whWQK"
      },
      "source": [
        "# Compare Data"
      ]
    },
    {
      "cell_type": "markdown",
      "metadata": {
        "id": "PXrWvEVzjZcB"
      },
      "source": [
        "## MEANs"
      ]
    },
    {
      "cell_type": "code",
      "execution_count": null,
      "metadata": {
        "colab": {
          "base_uri": "https://localhost:8080/"
        },
        "id": "2p1mqbwrhX9h",
        "outputId": "e5e338c3-4b58-41ae-86d2-53008c69fc73"
      },
      "outputs": [
        {
          "output_type": "stream",
          "name": "stdout",
          "text": [
            "800\n",
            "4000\n"
          ]
        },
        {
          "output_type": "stream",
          "name": "stderr",
          "text": [
            "/usr/local/lib/python3.7/dist-packages/matplotlib/cbook/__init__.py:1376: VisibleDeprecationWarning: Creating an ndarray from ragged nested sequences (which is a list-or-tuple of lists-or-tuples-or ndarrays with different lengths or shapes) is deprecated. If you meant to do this, you must specify 'dtype=object' when creating the ndarray.\n",
            "  X = np.atleast_1d(X.T if isinstance(X, np.ndarray) else np.asarray(X))\n"
          ]
        },
        {
          "output_type": "display_data",
          "data": {
            "text/plain": [
              "<Figure size 432x288 with 1 Axes>"
            ],
            "image/png": "[encoded data removed]"
          },
          "metadata": {
            "needs_background": "light"
          }
        }
      ],
      "source": [
        "mean_neg = []\n",
        "mean_pos = []\n",
        "for i in tdn1: \n",
        "  mean_neg.append(np.mean(np.absolute(i)))\n",
        "for i in tdp1:\n",
        "  mean_pos.append(np.mean(np.absolute(i)))\n",
        "\n",
        "for i in tdn2:\n",
        "  mean_neg.append(np.mean(np.absolute(i)))\n",
        "for i in tdp2:\n",
        "  mean_pos.append(np.mean(np.absolute(i)))\n",
        "plt.boxplot([mean_pos, mean_neg])\n",
        "print(len(mean_pos))\n",
        "print(len(mean_neg))"
      ]
    },
    {
      "cell_type": "code",
      "execution_count": null,
      "metadata": {
        "id": "9We9fHGNjejn"
      },
      "outputs": [],
      "source": [
        "n_mean1 = []\n",
        "n_mean2 = []\n",
        "n_mean3 = []\n",
        "n_mean4 = []\n",
        "n_mean5 = []\n",
        "for d in [tdn1, tdn2]:\n",
        "  for s in d: \n",
        "    n_mean1.append(np.mean(np.absolute(s[0])))\n",
        "    n_mean2.append(np.mean(np.absolute(s[1])))\n",
        "    n_mean3.append(np.mean(np.absolute(s[2])))\n",
        "    n_mean4.append(np.mean(np.absolute(s[3])))\n",
        "    n_mean5.append(np.mean(np.absolute(s[4])))"
      ]
    },
    {
      "cell_type": "code",
      "execution_count": null,
      "metadata": {
        "id": "BNzE_6qYj_aQ"
      },
      "outputs": [],
      "source": [
        "p_mean1 = []\n",
        "p_mean2 = []\n",
        "p_mean3 = []\n",
        "p_mean4 = []\n",
        "p_mean5 = []\n",
        "for d in [tdp1, tdp2]:\n",
        "  for s in d: \n",
        "    p_mean1.append(np.mean(np.absolute(s[0])))\n",
        "    p_mean2.append(np.mean(np.absolute(s[1])))\n",
        "    p_mean3.append(np.mean(np.absolute(s[2])))\n",
        "    p_mean4.append(np.mean(np.absolute(s[3])))\n",
        "    p_mean5.append(np.mean(np.absolute(s[4])))"
      ]
    },
    {
      "cell_type": "code",
      "execution_count": null,
      "metadata": {
        "colab": {
          "base_uri": "https://localhost:8080/"
        },
        "id": "pzaXKNN1kFSS",
        "outputId": "ea5be1ec-d32e-4229-ece7-88a7e6e2daf2"
      },
      "outputs": [
        {
          "output_type": "stream",
          "name": "stdout",
          "text": [
            "4000\n",
            "800\n"
          ]
        },
        {
          "output_type": "stream",
          "name": "stderr",
          "text": [
            "/usr/local/lib/python3.7/dist-packages/matplotlib/cbook/__init__.py:1376: VisibleDeprecationWarning: Creating an ndarray from ragged nested sequences (which is a list-or-tuple of lists-or-tuples-or ndarrays with different lengths or shapes) is deprecated. If you meant to do this, you must specify 'dtype=object' when creating the ndarray.\n",
            "  X = np.atleast_1d(X.T if isinstance(X, np.ndarray) else np.asarray(X))\n"
          ]
        },
        {
          "output_type": "display_data",
          "data": {
            "text/plain": [
              "<Figure size 432x288 with 1 Axes>"
            ],
            "image/png": "[encoded data removed]"
          },
          "metadata": {
            "needs_background": "light"
          }
        }
      ],
      "source": [
        "plt.boxplot([n_mean1, p_mean1]) #1\n",
        "print(len(n_mean1))\n",
        "print(len(p_mean1))"
      ]
    },
    {
      "cell_type": "code",
      "source": [
        "test_n = n_mean1 * 1 + n_mean2 * 1 + n_mean3 * 1 + n_mean4 * 1 + n_mean5 * 1 \n",
        "test_p = p_mean1 * 1 + p_mean2 * 1 + p_mean3 * 1 + p_mean4 * 1 + p_mean5 * 1\n",
        "plt.boxplot([test_n, test_p])\n",
        "print(np.mean(test_n))\n",
        "print(np.mean(test_p))"
      ],
      "metadata": {
        "colab": {
          "base_uri": "https://localhost:8080/"
        },
        "id": "bB3tzcguhX9Y",
        "outputId": "e0d504a8-8504-4905-d81c-a4940a6947d2"
      },
      "execution_count": null,
      "outputs": [
        {
          "output_type": "stream",
          "name": "stdout",
          "text": [
            "25.753344\n",
            "58.426884\n"
          ]
        },
        {
          "output_type": "stream",
          "name": "stderr",
          "text": [
            "/usr/local/lib/python3.7/dist-packages/matplotlib/cbook/__init__.py:1376: VisibleDeprecationWarning: Creating an ndarray from ragged nested sequences (which is a list-or-tuple of lists-or-tuples-or ndarrays with different lengths or shapes) is deprecated. If you meant to do this, you must specify 'dtype=object' when creating the ndarray.\n",
            "  X = np.atleast_1d(X.T if isinstance(X, np.ndarray) else np.asarray(X))\n"
          ]
        },
        {
          "output_type": "display_data",
          "data": {
            "text/plain": [
              "<Figure size 432x288 with 1 Axes>"
            ],
            "image/png": "[encoded data removed]"
          },
          "metadata": {
            "needs_background": "light"
          }
        }
      ]
    },
    {
      "cell_type": "code",
      "execution_count": null,
      "metadata": {
        "id": "GPQipXHMkb4o",
        "colab": {
          "base_uri": "https://localhost:8080/"
        },
        "outputId": "ee18441a-96e5-4563-fece-ee8637ccc682"
      },
      "outputs": [
        {
          "output_type": "stream",
          "name": "stderr",
          "text": [
            "/usr/local/lib/python3.7/dist-packages/matplotlib/cbook/__init__.py:1376: VisibleDeprecationWarning: Creating an ndarray from ragged nested sequences (which is a list-or-tuple of lists-or-tuples-or ndarrays with different lengths or shapes) is deprecated. If you meant to do this, you must specify 'dtype=object' when creating the ndarray.\n",
            "  X = np.atleast_1d(X.T if isinstance(X, np.ndarray) else np.asarray(X))\n"
          ]
        },
        {
          "output_type": "stream",
          "name": "stdout",
          "text": [
            "4000\n"
          ]
        },
        {
          "output_type": "display_data",
          "data": {
            "text/plain": [
              "<Figure size 432x288 with 1 Axes>"
            ],
            "image/png": "[encoded data removed]"
          },
          "metadata": {
            "needs_background": "light"
          }
        }
      ],
      "source": [
        "plt.boxplot([n_mean2, p_mean2])\n",
        "print(len(n_mean2))"
      ]
    },
    {
      "cell_type": "code",
      "source": [
        "plt.boxplot([n_mean3, p_mean3])\n",
        "print(len(n_mean3))"
      ],
      "metadata": {
        "colab": {
          "base_uri": "https://localhost:8080/"
        },
        "id": "ImAVsz17DZN5",
        "outputId": "5a306d8f-c773-4bde-cd98-adffc7a5484e"
      },
      "execution_count": null,
      "outputs": [
        {
          "output_type": "stream",
          "name": "stderr",
          "text": [
            "/usr/local/lib/python3.7/dist-packages/matplotlib/cbook/__init__.py:1376: VisibleDeprecationWarning: Creating an ndarray from ragged nested sequences (which is a list-or-tuple of lists-or-tuples-or ndarrays with different lengths or shapes) is deprecated. If you meant to do this, you must specify 'dtype=object' when creating the ndarray.\n",
            "  X = np.atleast_1d(X.T if isinstance(X, np.ndarray) else np.asarray(X))\n"
          ]
        },
        {
          "output_type": "stream",
          "name": "stdout",
          "text": [
            "4000\n"
          ]
        },
        {
          "output_type": "display_data",
          "data": {
            "text/plain": [
              "<Figure size 432x288 with 1 Axes>"
            ],
            "image/png": "[encoded data removed]"
          },
          "metadata": {
            "needs_background": "light"
          }
        }
      ]
    },
    {
      "cell_type": "code",
      "source": [
        "plt.boxplot([n_mean4, p_mean4])\n",
        "print(len(n_mean4))"
      ],
      "metadata": {
        "colab": {
          "base_uri": "https://localhost:8080/"
        },
        "id": "9jxqzoC-DckM",
        "outputId": "61fd6a2a-0d59-4f0e-ff87-a1cbb8903b3d"
      },
      "execution_count": null,
      "outputs": [
        {
          "output_type": "stream",
          "name": "stderr",
          "text": [
            "/usr/local/lib/python3.7/dist-packages/matplotlib/cbook/__init__.py:1376: VisibleDeprecationWarning: Creating an ndarray from ragged nested sequences (which is a list-or-tuple of lists-or-tuples-or ndarrays with different lengths or shapes) is deprecated. If you meant to do this, you must specify 'dtype=object' when creating the ndarray.\n",
            "  X = np.atleast_1d(X.T if isinstance(X, np.ndarray) else np.asarray(X))\n"
          ]
        },
        {
          "output_type": "stream",
          "name": "stdout",
          "text": [
            "4000\n"
          ]
        },
        {
          "output_type": "display_data",
          "data": {
            "text/plain": [
              "<Figure size 432x288 with 1 Axes>"
            ],
            "image/png": "[encoded data removed]"
          },
          "metadata": {
            "needs_background": "light"
          }
        }
      ]
    },
    {
      "cell_type": "code",
      "source": [
        "plt.boxplot([n_mean5, p_mean5])\n",
        "print(len(n_mean5))"
      ],
      "metadata": {
        "colab": {
          "base_uri": "https://localhost:8080/"
        },
        "id": "nek_CqxwDfY8",
        "outputId": "7f0ebbd5-79de-4fe1-a2c4-c6d74018a095"
      },
      "execution_count": null,
      "outputs": [
        {
          "output_type": "stream",
          "name": "stderr",
          "text": [
            "/usr/local/lib/python3.7/dist-packages/matplotlib/cbook/__init__.py:1376: VisibleDeprecationWarning: Creating an ndarray from ragged nested sequences (which is a list-or-tuple of lists-or-tuples-or ndarrays with different lengths or shapes) is deprecated. If you meant to do this, you must specify 'dtype=object' when creating the ndarray.\n",
            "  X = np.atleast_1d(X.T if isinstance(X, np.ndarray) else np.asarray(X))\n"
          ]
        },
        {
          "output_type": "stream",
          "name": "stdout",
          "text": [
            "4000\n"
          ]
        },
        {
          "output_type": "display_data",
          "data": {
            "text/plain": [
              "<Figure size 432x288 with 1 Axes>"
            ],
            "image/png": "[encoded data removed]"
          },
          "metadata": {
            "needs_background": "light"
          }
        }
      ]
    },
    {
      "cell_type": "markdown",
      "metadata": {
        "id": "VSGwyXzDkh26"
      },
      "source": [
        "## VALUES"
      ]
    },
    {
      "cell_type": "code",
      "execution_count": null,
      "metadata": {
        "id": "ja1nRgSBkkwV"
      },
      "outputs": [],
      "source": [
        "n_minv = [[], [], [], [], []]\n",
        "n_maxv = [[], [], [], [], []]\n",
        "for d in [tdn1, tdn2]:\n",
        "  for i in d:\n",
        "    n_minv[0].append(min(i[0]))\n",
        "    n_minv[1].append(min(i[1]))\n",
        "    n_minv[2].append(min(i[2]))\n",
        "    n_minv[3].append(min(i[3]))\n",
        "    n_minv[4].append(min(i[4]))\n",
        "    n_maxv[0].append(max(i[0]))\n",
        "    n_maxv[1].append(max(i[1]))\n",
        "    n_maxv[2].append(max(i[2]))\n",
        "    n_maxv[3].append(max(i[3]))\n",
        "    n_maxv[4].append(max(i[4]))"
      ]
    },
    {
      "cell_type": "code",
      "source": [
        "p_minv = [[], [], [], [], []]\n",
        "p_maxv = [[], [], [], [], []]\n",
        "for d in [tdp1, tdp2]:\n",
        "  for i in d:\n",
        "    p_minv[0].append(min(i[0]))\n",
        "    p_minv[1].append(min(i[1]))\n",
        "    p_minv[2].append(min(i[2]))\n",
        "    p_minv[3].append(min(i[3]))\n",
        "    p_minv[4].append(min(i[4]))\n",
        "    p_maxv[0].append(max(i[0]))\n",
        "    p_maxv[1].append(max(i[1]))\n",
        "    p_maxv[2].append(max(i[2]))\n",
        "    p_maxv[3].append(max(i[3]))\n",
        "    p_maxv[4].append(max(i[4]))"
      ],
      "metadata": {
        "id": "vbxq0GwNC2dL"
      },
      "execution_count": null,
      "outputs": []
    },
    {
      "cell_type": "code",
      "source": [
        "def min_max(minv, maxv, i):\n",
        "  t_minv = np.absolute(min(minv[0][i], minv[1][i], minv[2][i], minv[3][i], minv[4][i]))\n",
        "  t_maxv = np.absolute(max(maxv[0][i], maxv[1][i], maxv[2][i], maxv[3][i], maxv[4][i]))\n",
        "  return t_minv + t_maxv\n",
        "\n",
        "print(min_max(n_minv, n_maxv, 6))\n",
        "n_mm = []\n",
        "p_mm = []\n",
        "for i in range(4000):\n",
        "  n_mm.append(min_max(n_minv, n_maxv, i))\n",
        "for i in range(800):\n",
        "  p_mm.append(min_max(p_minv, p_maxv, i))\n",
        "print(1)\n",
        "plt.boxplot([n_mm, p_mm])"
      ],
      "metadata": {
        "colab": {
          "base_uri": "https://localhost:8080/",
          "height": 615
        },
        "id": "sDqT13FeE6d8",
        "outputId": "f123da1e-b825-4fd0-a8b6-f340415ccffa"
      },
      "execution_count": null,
      "outputs": [
        {
          "output_type": "stream",
          "name": "stdout",
          "text": [
            "541.6478\n",
            "1\n"
          ]
        },
        {
          "output_type": "stream",
          "name": "stderr",
          "text": [
            "/usr/local/lib/python3.7/dist-packages/matplotlib/cbook/__init__.py:1376: VisibleDeprecationWarning: Creating an ndarray from ragged nested sequences (which is a list-or-tuple of lists-or-tuples-or ndarrays with different lengths or shapes) is deprecated. If you meant to do this, you must specify 'dtype=object' when creating the ndarray.\n",
            "  X = np.atleast_1d(X.T if isinstance(X, np.ndarray) else np.asarray(X))\n"
          ]
        },
        {
          "output_type": "execute_result",
          "data": {
            "text/plain": [
              "{'boxes': [<matplotlib.lines.Line2D at 0x7f094776f550>,\n",
              "  <matplotlib.lines.Line2D at 0x7f094777bb10>],\n",
              " 'caps': [<matplotlib.lines.Line2D at 0x7f0947775550>,\n",
              "  <matplotlib.lines.Line2D at 0x7f0947775a90>,\n",
              "  <matplotlib.lines.Line2D at 0x7f0947703ad0>,\n",
              "  <matplotlib.lines.Line2D at 0x7f094770c050>],\n",
              " 'fliers': [<matplotlib.lines.Line2D at 0x7f094777b590>,\n",
              "  <matplotlib.lines.Line2D at 0x7f094770cad0>],\n",
              " 'means': [],\n",
              " 'medians': [<matplotlib.lines.Line2D at 0x7f094777b050>,\n",
              "  <matplotlib.lines.Line2D at 0x7f094770c590>],\n",
              " 'whiskers': [<matplotlib.lines.Line2D at 0x7f094776fa90>,\n",
              "  <matplotlib.lines.Line2D at 0x7f094776ffd0>,\n",
              "  <matplotlib.lines.Line2D at 0x7f0947703090>,\n",
              "  <matplotlib.lines.Line2D at 0x7f0947703590>]}"
            ]
          },
          "metadata": {},
          "execution_count": 20
        },
        {
          "output_type": "display_data",
          "data": {
            "text/plain": [
              "<Figure size 432x288 with 1 Axes>"
            ],
            "image/png": "[encoded data removed]"
          },
          "metadata": {
            "needs_background": "light"
          }
        }
      ]
    },
    {
      "cell_type": "markdown",
      "source": [
        "### MIN"
      ],
      "metadata": {
        "id": "menfGqcfD8Ue"
      }
    },
    {
      "cell_type": "code",
      "source": [
        "plt.boxplot([p_minv[0], n_minv[0]])\n",
        "print(1)"
      ],
      "metadata": {
        "id": "7u_AT2vdDGdl",
        "colab": {
          "base_uri": "https://localhost:8080/",
          "height": 337
        },
        "outputId": "6b476dd1-01c6-4bd1-93e9-236b98e23c4a"
      },
      "execution_count": null,
      "outputs": [
        {
          "output_type": "stream",
          "name": "stdout",
          "text": [
            "1\n"
          ]
        },
        {
          "output_type": "stream",
          "name": "stderr",
          "text": [
            "/usr/local/lib/python3.7/dist-packages/matplotlib/cbook/__init__.py:1376: VisibleDeprecationWarning: Creating an ndarray from ragged nested sequences (which is a list-or-tuple of lists-or-tuples-or ndarrays with different lengths or shapes) is deprecated. If you meant to do this, you must specify 'dtype=object' when creating the ndarray.\n",
            "  X = np.atleast_1d(X.T if isinstance(X, np.ndarray) else np.asarray(X))\n"
          ]
        },
        {
          "output_type": "display_data",
          "data": {
            "text/plain": [
              "<Figure size 432x288 with 1 Axes>"
            ],
            "image/png": "[encoded data removed]"
          },
          "metadata": {
            "needs_background": "light"
          }
        }
      ]
    },
    {
      "cell_type": "code",
      "source": [
        "plt.boxplot([p_minv[1], n_minv[1],p_minv[2], n_minv[2]])\n",
        "print(1)"
      ],
      "metadata": {
        "colab": {
          "base_uri": "https://localhost:8080/",
          "height": 337
        },
        "id": "067TDP3NilGL",
        "outputId": "98b3fadb-ebd1-46c7-dc2b-8c325b6f1c4b"
      },
      "execution_count": null,
      "outputs": [
        {
          "output_type": "stream",
          "name": "stdout",
          "text": [
            "1\n"
          ]
        },
        {
          "output_type": "stream",
          "name": "stderr",
          "text": [
            "/usr/local/lib/python3.7/dist-packages/matplotlib/cbook/__init__.py:1376: VisibleDeprecationWarning: Creating an ndarray from ragged nested sequences (which is a list-or-tuple of lists-or-tuples-or ndarrays with different lengths or shapes) is deprecated. If you meant to do this, you must specify 'dtype=object' when creating the ndarray.\n",
            "  X = np.atleast_1d(X.T if isinstance(X, np.ndarray) else np.asarray(X))\n"
          ]
        },
        {
          "output_type": "display_data",
          "data": {
            "text/plain": [
              "<Figure size 432x288 with 1 Axes>"
            ],
            "image/png": "[encoded data removed]"
          },
          "metadata": {
            "needs_background": "light"
          }
        }
      ]
    },
    {
      "cell_type": "code",
      "source": [
        "plt.boxplot([p_minv[2], n_minv[2],p_minv[3], n_minv[3],p_minv[4], n_minv[4]])\n",
        "print(1)"
      ],
      "metadata": {
        "colab": {
          "base_uri": "https://localhost:8080/",
          "height": 337
        },
        "id": "WQea7fJPDtO1",
        "outputId": "ead98a19-41d3-403e-9de2-592b992f9ae0"
      },
      "execution_count": null,
      "outputs": [
        {
          "output_type": "stream",
          "name": "stderr",
          "text": [
            "/usr/local/lib/python3.7/dist-packages/matplotlib/cbook/__init__.py:1376: VisibleDeprecationWarning: Creating an ndarray from ragged nested sequences (which is a list-or-tuple of lists-or-tuples-or ndarrays with different lengths or shapes) is deprecated. If you meant to do this, you must specify 'dtype=object' when creating the ndarray.\n",
            "  X = np.atleast_1d(X.T if isinstance(X, np.ndarray) else np.asarray(X))\n"
          ]
        },
        {
          "output_type": "stream",
          "name": "stdout",
          "text": [
            "1\n"
          ]
        },
        {
          "output_type": "display_data",
          "data": {
            "text/plain": [
              "<Figure size 432x288 with 1 Axes>"
            ],
            "image/png": "[encoded data removed]"
          },
          "metadata": {
            "needs_background": "light"
          }
        }
      ]
    },
    {
      "cell_type": "markdown",
      "source": [
        "### MAX\n"
      ],
      "metadata": {
        "id": "GOdlTmEcD-Om"
      }
    },
    {
      "cell_type": "code",
      "source": [
        "plt.boxplot([p_maxv[0], n_maxv[0]])\n",
        "print(1)"
      ],
      "metadata": {
        "colab": {
          "base_uri": "https://localhost:8080/",
          "height": 340
        },
        "id": "SFPopuw4EG0m",
        "outputId": "c30746f9-6f21-44b6-fd8b-95bf5c2946d0"
      },
      "execution_count": null,
      "outputs": [
        {
          "output_type": "stream",
          "name": "stdout",
          "text": [
            "1\n"
          ]
        },
        {
          "output_type": "stream",
          "name": "stderr",
          "text": [
            "/usr/local/lib/python3.7/dist-packages/matplotlib/cbook/__init__.py:1376: VisibleDeprecationWarning: Creating an ndarray from ragged nested sequences (which is a list-or-tuple of lists-or-tuples-or ndarrays with different lengths or shapes) is deprecated. If you meant to do this, you must specify 'dtype=object' when creating the ndarray.\n",
            "  X = np.atleast_1d(X.T if isinstance(X, np.ndarray) else np.asarray(X))\n"
          ]
        },
        {
          "output_type": "display_data",
          "data": {
            "text/plain": [
              "<Figure size 432x288 with 1 Axes>"
            ],
            "image/png": "[encoded data removed]"
          },
          "metadata": {
            "needs_background": "light"
          }
        }
      ]
    },
    {
      "cell_type": "code",
      "source": [
        "plt.boxplot([p_maxv[1], n_maxv[1],p_maxv[2], n_maxv[2]])\n",
        "print(1)"
      ],
      "metadata": {
        "colab": {
          "base_uri": "https://localhost:8080/",
          "height": 340
        },
        "id": "N2-3QIvBEBxa",
        "outputId": "3d956e02-f444-461f-cb25-2121adb71622"
      },
      "execution_count": null,
      "outputs": [
        {
          "output_type": "stream",
          "name": "stderr",
          "text": [
            "/usr/local/lib/python3.7/dist-packages/matplotlib/cbook/__init__.py:1376: VisibleDeprecationWarning: Creating an ndarray from ragged nested sequences (which is a list-or-tuple of lists-or-tuples-or ndarrays with different lengths or shapes) is deprecated. If you meant to do this, you must specify 'dtype=object' when creating the ndarray.\n",
            "  X = np.atleast_1d(X.T if isinstance(X, np.ndarray) else np.asarray(X))\n"
          ]
        },
        {
          "output_type": "stream",
          "name": "stdout",
          "text": [
            "1\n"
          ]
        },
        {
          "output_type": "display_data",
          "data": {
            "text/plain": [
              "<Figure size 432x288 with 1 Axes>"
            ],
            "image/png": "[encoded data removed]"
          },
          "metadata": {
            "needs_background": "light"
          }
        }
      ]
    },
    {
      "cell_type": "code",
      "source": [
        "plt.boxplot([p_maxv[3], n_maxv[3],p_maxv[4], n_maxv[4]])\n",
        "print(1)"
      ],
      "metadata": {
        "colab": {
          "base_uri": "https://localhost:8080/",
          "height": 337
        },
        "id": "fwKKJeFIEKJn",
        "outputId": "c506ca0c-2ff0-4fc9-95fd-285e7c512242"
      },
      "execution_count": null,
      "outputs": [
        {
          "output_type": "stream",
          "name": "stderr",
          "text": [
            "/usr/local/lib/python3.7/dist-packages/matplotlib/cbook/__init__.py:1376: VisibleDeprecationWarning: Creating an ndarray from ragged nested sequences (which is a list-or-tuple of lists-or-tuples-or ndarrays with different lengths or shapes) is deprecated. If you meant to do this, you must specify 'dtype=object' when creating the ndarray.\n",
            "  X = np.atleast_1d(X.T if isinstance(X, np.ndarray) else np.asarray(X))\n"
          ]
        },
        {
          "output_type": "stream",
          "name": "stdout",
          "text": [
            "1\n"
          ]
        },
        {
          "output_type": "display_data",
          "data": {
            "text/plain": [
              "<Figure size 432x288 with 1 Axes>"
            ],
            "image/png": "[encoded data removed]"
          },
          "metadata": {
            "needs_background": "light"
          }
        }
      ]
    },
    {
      "cell_type": "markdown",
      "source": [
        "## SIGNAL MOVEMENT"
      ],
      "metadata": {
        "id": "5zW2znWAEZs5"
      }
    },
    {
      "cell_type": "code",
      "source": [
        "def get_difference(sequence, step):\n",
        "  sv = [[], [], [], [], []]\n",
        "  for i, s in enumerate(sequence):\n",
        "    sv[i].append(s[0])\n",
        "    for j in range(step, 767,step):\n",
        "      sv[i].append(np.abs(s[j] - s[j-step]))\n",
        "  return sv"
      ],
      "metadata": {
        "id": "kCrWe2iZEdsG"
      },
      "execution_count": null,
      "outputs": []
    },
    {
      "cell_type": "code",
      "source": [
        "sgm_n = []\n",
        "sgm_p = []\n",
        "for d in [tdn1, tdn2]:\n",
        "  for s in d:\n",
        "    sgm_n.append(np.mean(get_difference(s, 5)[0]))\n",
        "for d in [tdp1, tdp2]:\n",
        "  for s in d:\n",
        "    sgm_p.append(np.mean(get_difference(s, 5)[0]))\n",
        "\n",
        "plt.boxplot([sgm_n, sgm_p])\n",
        "print(1)"
      ],
      "metadata": {
        "colab": {
          "base_uri": "https://localhost:8080/",
          "height": 337
        },
        "id": "xglD9bQ1Ei0e",
        "outputId": "3c94c210-3a6d-4377-d3e6-29e2c7738cbb"
      },
      "execution_count": null,
      "outputs": [
        {
          "output_type": "stream",
          "name": "stdout",
          "text": [
            "1\n"
          ]
        },
        {
          "output_type": "stream",
          "name": "stderr",
          "text": [
            "/usr/local/lib/python3.7/dist-packages/matplotlib/cbook/__init__.py:1376: VisibleDeprecationWarning: Creating an ndarray from ragged nested sequences (which is a list-or-tuple of lists-or-tuples-or ndarrays with different lengths or shapes) is deprecated. If you meant to do this, you must specify 'dtype=object' when creating the ndarray.\n",
            "  X = np.atleast_1d(X.T if isinstance(X, np.ndarray) else np.asarray(X))\n"
          ]
        },
        {
          "output_type": "display_data",
          "data": {
            "text/plain": [
              "<Figure size 432x288 with 1 Axes>"
            ],
            "image/png": "[encoded data removed]"
          },
          "metadata": {
            "needs_background": "light"
          }
        }
      ]
    },
    {
      "cell_type": "markdown",
      "source": [
        "### individual signal"
      ],
      "metadata": {
        "id": "iK_OyjdsG0s-"
      }
    },
    {
      "cell_type": "code",
      "source": [
        "n_diff = [[], [], [], [], []]\n",
        "p_diff = [[], [], [], [], []]\n",
        "for d in [tdp1, tdp2]:\n",
        "  for i in d:\n",
        "    dc = get_difference(i, 5)\n",
        "    p_diff[0].append(np.mean(dc[0]))\n",
        "    p_diff[1].append(np.mean(dc[1]))\n",
        "    p_diff[2].append(np.mean(dc[2]))\n",
        "    p_diff[3].append(np.mean(dc[3]))\n",
        "    p_diff[4].append(np.mean(dc[4]))\n",
        "for d in [tdn1, tdn2]:\n",
        "  for i in d:\n",
        "    dc = get_difference(i, 5)\n",
        "    n_diff[0].append(np.mean(dc[0]))\n",
        "    n_diff[1].append(np.mean(dc[1]))\n",
        "    n_diff[2].append(np.mean(dc[2]))\n",
        "    n_diff[3].append(np.mean(dc[3]))\n",
        "    n_diff[4].append(np.mean(dc[4]))"
      ],
      "metadata": {
        "id": "E-6WqffZG4Oc"
      },
      "execution_count": null,
      "outputs": []
    },
    {
      "cell_type": "code",
      "source": [
        "plt.boxplot([p_diff[0], n_diff[0],p_diff[1], n_diff[1]])\n",
        "print(1)"
      ],
      "metadata": {
        "colab": {
          "base_uri": "https://localhost:8080/",
          "height": 338
        },
        "id": "tJYhV52THDYg",
        "outputId": "a6e9425c-612d-4f6d-bea2-6c8381f07cd0"
      },
      "execution_count": null,
      "outputs": [
        {
          "output_type": "stream",
          "name": "stdout",
          "text": [
            "1\n"
          ]
        },
        {
          "output_type": "stream",
          "name": "stderr",
          "text": [
            "/usr/local/lib/python3.7/dist-packages/matplotlib/cbook/__init__.py:1376: VisibleDeprecationWarning: Creating an ndarray from ragged nested sequences (which is a list-or-tuple of lists-or-tuples-or ndarrays with different lengths or shapes) is deprecated. If you meant to do this, you must specify 'dtype=object' when creating the ndarray.\n",
            "  X = np.atleast_1d(X.T if isinstance(X, np.ndarray) else np.asarray(X))\n"
          ]
        },
        {
          "output_type": "display_data",
          "data": {
            "text/plain": [
              "<Figure size 432x288 with 1 Axes>"
            ],
            "image/png": "[encoded data removed]"
          },
          "metadata": {
            "needs_background": "light"
          }
        }
      ]
    },
    {
      "cell_type": "code",
      "source": [
        "plt.boxplot([p_diff[2], n_diff[2],p_diff[3], n_diff[3], p_diff[4], n_diff[4]])\n",
        "print(1)"
      ],
      "metadata": {
        "colab": {
          "base_uri": "https://localhost:8080/",
          "height": 337
        },
        "id": "aIIANvChHGFa",
        "outputId": "99c39913-acb1-4280-bbf5-4a38e8bb1d12"
      },
      "execution_count": null,
      "outputs": [
        {
          "output_type": "stream",
          "name": "stderr",
          "text": [
            "/usr/local/lib/python3.7/dist-packages/matplotlib/cbook/__init__.py:1376: VisibleDeprecationWarning: Creating an ndarray from ragged nested sequences (which is a list-or-tuple of lists-or-tuples-or ndarrays with different lengths or shapes) is deprecated. If you meant to do this, you must specify 'dtype=object' when creating the ndarray.\n",
            "  X = np.atleast_1d(X.T if isinstance(X, np.ndarray) else np.asarray(X))\n"
          ]
        },
        {
          "output_type": "stream",
          "name": "stdout",
          "text": [
            "1\n"
          ]
        },
        {
          "output_type": "display_data",
          "data": {
            "text/plain": [
              "<Figure size 432x288 with 1 Axes>"
            ],
            "image/png": "[encoded data removed]"
          },
          "metadata": {
            "needs_background": "light"
          }
        }
      ]
    },
    {
      "cell_type": "markdown",
      "source": [
        "### MAX OF INDIVIDUAL SIGNAL (INSTEAD OF THE MEAN)"
      ],
      "metadata": {
        "id": "R38StZ1kHWJR"
      }
    },
    {
      "cell_type": "code",
      "source": [
        "n_dm = [[], [], [], [], []]\n",
        "p_dm = [[], [], [], [], []]\n",
        "for d in [tdp1, tdp2]:\n",
        "  for i in d:\n",
        "    dc = get_difference(i, 5)\n",
        "    p_dm[0].append(max(dc[0]))\n",
        "    p_dm[1].append(max(dc[1]))\n",
        "    p_dm[2].append(max(dc[2]))\n",
        "    p_dm[3].append(max(dc[3]))\n",
        "    p_dm[4].append(max(dc[4]))\n",
        "for d in [tdn1, tdn2]:\n",
        "  for i in d:\n",
        "    dc = get_difference(i, 5)\n",
        "    n_dm[0].append(max(dc[0]))\n",
        "    n_dm[1].append(max(dc[1]))\n",
        "    n_dm[2].append(max(dc[2]))\n",
        "    n_dm[3].append(max(dc[3]))\n",
        "    n_dm[4].append(max(dc[4]))"
      ],
      "metadata": {
        "id": "GI7U9vYAHZ4G"
      },
      "execution_count": null,
      "outputs": []
    },
    {
      "cell_type": "code",
      "source": [
        "plt.boxplot([p_dm[0], n_dm[0],p_dm[1], n_dm[1]])\n",
        "print(1)"
      ],
      "metadata": {
        "colab": {
          "base_uri": "https://localhost:8080/",
          "height": 337
        },
        "id": "sA6IU5xRHgV4",
        "outputId": "57e530cb-e2ea-4b13-f34b-b7c659ab529d"
      },
      "execution_count": null,
      "outputs": [
        {
          "output_type": "stream",
          "name": "stdout",
          "text": [
            "1\n"
          ]
        },
        {
          "output_type": "stream",
          "name": "stderr",
          "text": [
            "/usr/local/lib/python3.7/dist-packages/matplotlib/cbook/__init__.py:1376: VisibleDeprecationWarning: Creating an ndarray from ragged nested sequences (which is a list-or-tuple of lists-or-tuples-or ndarrays with different lengths or shapes) is deprecated. If you meant to do this, you must specify 'dtype=object' when creating the ndarray.\n",
            "  X = np.atleast_1d(X.T if isinstance(X, np.ndarray) else np.asarray(X))\n"
          ]
        },
        {
          "output_type": "display_data",
          "data": {
            "text/plain": [
              "<Figure size 432x288 with 1 Axes>"
            ],
            "image/png": "[encoded data removed]"
          },
          "metadata": {
            "needs_background": "light"
          }
        }
      ]
    },
    {
      "cell_type": "code",
      "source": [
        "plt.boxplot([p_dm[2], n_dm[2],p_dm[3], n_dm[3], p_dm[4], n_dm[4]])\n",
        "print(1)"
      ],
      "metadata": {
        "colab": {
          "base_uri": "https://localhost:8080/",
          "height": 337
        },
        "id": "jJ4Wioj4HkE7",
        "outputId": "34e8b8e9-09b0-4a39-887c-0c183f7f7251"
      },
      "execution_count": null,
      "outputs": [
        {
          "output_type": "stream",
          "name": "stderr",
          "text": [
            "/usr/local/lib/python3.7/dist-packages/matplotlib/cbook/__init__.py:1376: VisibleDeprecationWarning: Creating an ndarray from ragged nested sequences (which is a list-or-tuple of lists-or-tuples-or ndarrays with different lengths or shapes) is deprecated. If you meant to do this, you must specify 'dtype=object' when creating the ndarray.\n",
            "  X = np.atleast_1d(X.T if isinstance(X, np.ndarray) else np.asarray(X))\n"
          ]
        },
        {
          "output_type": "stream",
          "name": "stdout",
          "text": [
            "1\n"
          ]
        },
        {
          "output_type": "display_data",
          "data": {
            "text/plain": [
              "<Figure size 432x288 with 1 Axes>"
            ],
            "image/png": "[encoded data removed]"
          },
          "metadata": {
            "needs_background": "light"
          }
        }
      ]
    },
    {
      "cell_type": "markdown",
      "source": [
        "## DISTANCE"
      ],
      "metadata": {
        "id": "Lz7x9sQGFuj-"
      }
    },
    {
      "cell_type": "code",
      "source": [
        "def get_distance(sequence):\n",
        "  dist = []\n",
        "  for i in range(len(sequence[0])):\n",
        "    min_s = min(sequence[0][i], sequence[1][i], sequence[2][i],sequence[3][i], sequence[4][i])\n",
        "    max_s = max(sequence[0][i], sequence[1][i], sequence[2][i],sequence[3][i], sequence[4][i])\n",
        "    dist.append(max_s - min_s)\n",
        "  return np.mean(dist)"
      ],
      "metadata": {
        "id": "KLcyPoJKFwJ-"
      },
      "execution_count": null,
      "outputs": []
    },
    {
      "cell_type": "code",
      "source": [
        "p_dist = []\n",
        "n_dist = []\n",
        "for d in [tdp1, tdp2]:\n",
        "  for i in d:\n",
        "    p_dist.append(get_distance(i))\n",
        "for d in [tdn1, tdn2]:\n",
        "  for i in d:\n",
        "    n_dist.append(get_distance(i))"
      ],
      "metadata": {
        "id": "4JqtZBMpFzo4"
      },
      "execution_count": null,
      "outputs": []
    },
    {
      "cell_type": "code",
      "source": [
        "plt.boxplot([p_dist, n_dist])\n",
        "print(1)"
      ],
      "metadata": {
        "colab": {
          "base_uri": "https://localhost:8080/",
          "height": 337
        },
        "id": "E_Vv9cgCFzvJ",
        "outputId": "647004b7-233d-4c9f-901d-95a92e48fa56"
      },
      "execution_count": null,
      "outputs": [
        {
          "output_type": "stream",
          "name": "stdout",
          "text": [
            "1\n"
          ]
        },
        {
          "output_type": "stream",
          "name": "stderr",
          "text": [
            "/usr/local/lib/python3.7/dist-packages/matplotlib/cbook/__init__.py:1376: VisibleDeprecationWarning: Creating an ndarray from ragged nested sequences (which is a list-or-tuple of lists-or-tuples-or ndarrays with different lengths or shapes) is deprecated. If you meant to do this, you must specify 'dtype=object' when creating the ndarray.\n",
            "  X = np.atleast_1d(X.T if isinstance(X, np.ndarray) else np.asarray(X))\n"
          ]
        },
        {
          "output_type": "display_data",
          "data": {
            "text/plain": [
              "<Figure size 432x288 with 1 Axes>"
            ],
            "image/png": "[encoded data removed]"
          },
          "metadata": {
            "needs_background": "light"
          }
        }
      ]
    },
    {
      "cell_type": "markdown",
      "source": [
        "## WAVELET TRANSFORM"
      ],
      "metadata": {
        "id": "-35_fY5yF6nQ"
      }
    },
    {
      "cell_type": "code",
      "source": [
        "import pywt # 1 & 10\n",
        "(cA_n1, cD_n1) = pywt.dwt(tdn1, 'db1')\n",
        "(cA_p1, cD_p1) = pywt.dwt(tdp1, 'db1')\n",
        "(cA_n2, cD_n2) = pywt.dwt(tdn2, 'db1')\n",
        "(cA_p2, cD_p2) = pywt.dwt(tdp2, 'db1')\n",
        "r_wlt = np.mean(cA_p1[0],axis = 1)\n",
        "# print (r_wlt)"
      ],
      "metadata": {
        "id": "8kbxb1ZYGey4"
      },
      "execution_count": null,
      "outputs": []
    },
    {
      "cell_type": "code",
      "source": [
        "cap = [[], [], [], [], []]\n",
        "can = [[], [], [], [], []]\n",
        "\n",
        "for i in [cA_p1, cA_p2]:\n",
        "  for j in range(400):\n",
        "    ca = np.mean(np.absolute(i[j]), axis = 1)\n",
        "    for x in range(len(cap)):\n",
        "      cap[x].append(ca[x])\n",
        "for i in [cA_n1, cA_n2]:\n",
        "  for p in range(2000):\n",
        "    ca = np.mean(np.absolute(i[p]),axis = 1)\n",
        "    for x in range(len(can)):\n",
        "      can[x].append(ca[x])"
      ],
      "metadata": {
        "id": "6yXGHud3KWdO"
      },
      "execution_count": null,
      "outputs": []
    },
    {
      "cell_type": "code",
      "source": [
        "plt.boxplot([cap[0], can[0], cap[1], can[1]])\n",
        "print(\"a\")"
      ],
      "metadata": {
        "colab": {
          "base_uri": "https://localhost:8080/",
          "height": 338
        },
        "id": "boYcnVLwNMG9",
        "outputId": "b489fb79-d02a-4396-92a2-77d06b7c252d"
      },
      "execution_count": null,
      "outputs": [
        {
          "output_type": "stream",
          "name": "stdout",
          "text": [
            "a\n"
          ]
        },
        {
          "output_type": "stream",
          "name": "stderr",
          "text": [
            "/usr/local/lib/python3.7/dist-packages/matplotlib/cbook/__init__.py:1376: VisibleDeprecationWarning: Creating an ndarray from ragged nested sequences (which is a list-or-tuple of lists-or-tuples-or ndarrays with different lengths or shapes) is deprecated. If you meant to do this, you must specify 'dtype=object' when creating the ndarray.\n",
            "  X = np.atleast_1d(X.T if isinstance(X, np.ndarray) else np.asarray(X))\n"
          ]
        },
        {
          "output_type": "display_data",
          "data": {
            "text/plain": [
              "<Figure size 432x288 with 1 Axes>"
            ],
            "image/png": "[encoded data removed]"
          },
          "metadata": {
            "needs_background": "light"
          }
        }
      ]
    },
    {
      "cell_type": "code",
      "source": [
        "plt.boxplot([cap[2], can[2], cap[3], can[3], cap[4], can[4]])\n",
        "print(\"a\")"
      ],
      "metadata": {
        "colab": {
          "base_uri": "https://localhost:8080/",
          "height": 337
        },
        "id": "ajJv8_qXC6RS",
        "outputId": "32e53ab7-a819-45fc-f074-e80842d482b7"
      },
      "execution_count": null,
      "outputs": [
        {
          "output_type": "stream",
          "name": "stderr",
          "text": [
            "/usr/local/lib/python3.7/dist-packages/matplotlib/cbook/__init__.py:1376: VisibleDeprecationWarning: Creating an ndarray from ragged nested sequences (which is a list-or-tuple of lists-or-tuples-or ndarrays with different lengths or shapes) is deprecated. If you meant to do this, you must specify 'dtype=object' when creating the ndarray.\n",
            "  X = np.atleast_1d(X.T if isinstance(X, np.ndarray) else np.asarray(X))\n"
          ]
        },
        {
          "output_type": "stream",
          "name": "stdout",
          "text": [
            "a\n"
          ]
        },
        {
          "output_type": "display_data",
          "data": {
            "text/plain": [
              "<Figure size 432x288 with 1 Axes>"
            ],
            "image/png": "[encoded data removed]"
          },
          "metadata": {
            "needs_background": "light"
          }
        }
      ]
    },
    {
      "cell_type": "code",
      "source": [
        "cdp = [[], [], [], [], []]\n",
        "cdn = [[], [], [], [], []]\n",
        "\n",
        "for i in [cD_p1, cD_p2]:\n",
        "  for j in range(400):\n",
        "    cd = np.mean(np.absolute(i[j]), axis = 1)\n",
        "    for x in range(len(cdp)):\n",
        "      cdp[x].append(cd[x])\n",
        "for i in [cD_n1, cD_n2]:\n",
        "  for p in range(2000):\n",
        "    cd = np.mean(np.absolute(i[p]),axis = 1)\n",
        "    for x in range(len(cdn)):\n",
        "      cdn[x].append(cd[x])"
      ],
      "metadata": {
        "id": "J-2Lh2qjNlLa"
      },
      "execution_count": null,
      "outputs": []
    },
    {
      "cell_type": "code",
      "source": [
        "plt.boxplot([cdp[0], cdn[0], cdp[1], cdn[1]])\n",
        "print(\"a\")"
      ],
      "metadata": {
        "colab": {
          "base_uri": "https://localhost:8080/",
          "height": 341
        },
        "id": "8cQrBEIBNvhJ",
        "outputId": "15525054-f215-4e93-8030-4d513615946d"
      },
      "execution_count": null,
      "outputs": [
        {
          "output_type": "stream",
          "name": "stdout",
          "text": [
            "a\n"
          ]
        },
        {
          "output_type": "stream",
          "name": "stderr",
          "text": [
            "/usr/local/lib/python3.7/dist-packages/matplotlib/cbook/__init__.py:1376: VisibleDeprecationWarning: Creating an ndarray from ragged nested sequences (which is a list-or-tuple of lists-or-tuples-or ndarrays with different lengths or shapes) is deprecated. If you meant to do this, you must specify 'dtype=object' when creating the ndarray.\n",
            "  X = np.atleast_1d(X.T if isinstance(X, np.ndarray) else np.asarray(X))\n"
          ]
        },
        {
          "output_type": "display_data",
          "data": {
            "text/plain": [
              "<Figure size 432x288 with 1 Axes>"
            ],
            "image/png": "[encoded data removed]"
          },
          "metadata": {
            "needs_background": "light"
          }
        }
      ]
    },
    {
      "cell_type": "code",
      "source": [
        "plt.boxplot([ cdp[2], cdn[2], cdp[3], cdn[3], cdp[4], cdn[4]])\n",
        "print(\"a\")"
      ],
      "metadata": {
        "colab": {
          "base_uri": "https://localhost:8080/",
          "height": 337
        },
        "id": "sI9i-FDXN6zA",
        "outputId": "ccc07f9d-bc8c-4a13-f614-18fc5bf61b42"
      },
      "execution_count": null,
      "outputs": [
        {
          "output_type": "stream",
          "name": "stdout",
          "text": [
            "a\n"
          ]
        },
        {
          "output_type": "stream",
          "name": "stderr",
          "text": [
            "/usr/local/lib/python3.7/dist-packages/matplotlib/cbook/__init__.py:1376: VisibleDeprecationWarning: Creating an ndarray from ragged nested sequences (which is a list-or-tuple of lists-or-tuples-or ndarrays with different lengths or shapes) is deprecated. If you meant to do this, you must specify 'dtype=object' when creating the ndarray.\n",
            "  X = np.atleast_1d(X.T if isinstance(X, np.ndarray) else np.asarray(X))\n"
          ]
        },
        {
          "output_type": "display_data",
          "data": {
            "text/plain": [
              "<Figure size 432x288 with 1 Axes>"
            ],
            "image/png": "[encoded data removed]"
          },
          "metadata": {
            "needs_background": "light"
          }
        }
      ]
    },
    {
      "cell_type": "code",
      "source": [
        "(cA_n1, cD_n1) = pywt.dwt(tdn1, 'db10')\n",
        "(cA_p1, cD_p1) = pywt.dwt(tdp1, 'db10')\n",
        "(cA_n2, cD_n2) = pywt.dwt(tdn2, 'db10')\n",
        "(cA_p2, cD_p2) = pywt.dwt(tdp2, 'db10')\n",
        "cap2 = [[], [], [], [], []]\n",
        "can2 = [[], [], [], [], []]\n",
        "\n",
        "for i in [cA_p1, cA_p2]:\n",
        "  for j in range(400):\n",
        "    ca = np.mean(np.absolute(i[j]), axis = 1)\n",
        "    for x in range(len(cap)):\n",
        "      cap2[x].append(ca[x])\n",
        "for i in [cA_n1, cA_n2]:\n",
        "  for p in range(2000):\n",
        "    ca = np.mean(np.absolute(i[p]),axis = 1)\n",
        "    for x in range(len(can)):\n",
        "      can2[x].append(ca[x])\n",
        "\n",
        "cdp2 = [[], [], [], [], []]\n",
        "cdn2 = [[], [], [], [], []]\n",
        "\n",
        "for i in [cD_p1, cD_p2]:\n",
        "  for j in range(400):\n",
        "    cd = np.mean(np.absolute(i[j]), axis = 1)\n",
        "    for x in range(len(cdp)):\n",
        "      cdp2[x].append(cd[x])\n",
        "for i in [cD_n1, cD_n2]:\n",
        "  for p in range(2000):\n",
        "    cd = np.mean(np.absolute(i[p]),axis = 1)\n",
        "    for x in range(len(cdn)):\n",
        "      cdn2[x].append(cd[x])"
      ],
      "metadata": {
        "id": "SyPXozLZ7iED"
      },
      "execution_count": null,
      "outputs": []
    },
    {
      "cell_type": "markdown",
      "source": [
        "## INTERSECTION"
      ],
      "metadata": {
        "id": "csIvCvufECiO"
      }
    },
    {
      "cell_type": "code",
      "source": [
        "p_i = []\n",
        "n_i = []\n",
        "for d in [tdp1, tdp2]:\n",
        "  for i in d:\n",
        "    p_i.append(get_nbr_intersection(i))\n",
        "for d in [tdn1, tdn2]:\n",
        "  for j in d:\n",
        "    n_i.append(get_nbr_intersection(j))\n",
        "\n",
        "print(p_i)\n",
        "print(n_i)\n",
        "print(np.mean(n_i))\n",
        "print(np.mean(n_i))"
      ],
      "metadata": {
        "id": "jbuh1kHlEHXD",
        "colab": {
          "base_uri": "https://localhost:8080/"
        },
        "outputId": "7a2c492d-65b2-4928-de7f-3db8fe46e126"
      },
      "execution_count": null,
      "outputs": [
        {
          "output_type": "stream",
          "name": "stdout",
          "text": [
            "[2682, 1202, 1421, 2485, 3108, 2903, 3146, 3172, 2881, 1210, 958, 2092, 1796, 1270, 1721, 2814, 2269, 2372, 2445, 2165, 2863, 2018, 2708, 2599, 2226, 2714, 1738, 1840, 2700, 0, 1778, 2702, 1618, 2079, 2, 1764, 2992, 2809, 2765, 3107, 1166, 1359, 2651, 2963, 2266, 1996, 3164, 2959, 1128, 2959, 2932, 2710, 2837, 1026, 2619, 2647, 1814, 3166, 2857, 2247, 2581, 2525, 2900, 2550, 2527, 2848, 2004, 2691, 2274, 2832, 3086, 2297, 2929, 2851, 194, 2415, 1060, 2157, 1892, 2814, 2153, 1123, 2870, 3236, 2922, 3101, 3291, 3039, 2301, 1850, 918, 1879, 1901, 962, 1300, 1291, 490, 2728, 2873, 2728, 1827, 2335, 2261, 3112, 1851, 2504, 2490, 2204, 0, 1994, 1056, 3146, 2295, 2388, 1795, 2826, 3194, 3029, 0, 2377, 1990, 972, 180, 1017, 2829, 2795, 2537, 1615, 1594, 1809, 2861, 2498, 2550, 1721, 3206, 2167, 2022, 922, 1876, 898, 831, 2848, 2655, 2980, 1016, 2098, 2539, 3087, 3034, 2448, 462, 2792, 2899, 2807, 2190, 2452, 1404, 3087, 2832, 3032, 1286, 2962, 1074, 2456, 2342, 1479, 1237, 2556, 954, 2871, 1520, 3221, 0, 0, 0, 2074, 2062, 3211, 0, 2707, 1803, 931, 2447, 2256, 2752, 1232, 2783, 542, 0, 2667, 1694, 0, 1843, 2828, 1017, 2497, 3059, 1194, 2576, 1732, 3231, 1273, 2531, 2865, 2983, 2431, 1859, 2389, 1942, 3157, 1986, 0, 3253, 2986, 2269, 3075, 2928, 2058, 1388, 2601, 2224, 1357, 2609, 2534, 2854, 1974, 3047, 1516, 3087, 3170, 2071, 2664, 1520, 2852, 2008, 954, 1974, 3000, 3134, 0, 2102, 3360, 862, 3089, 2162, 2145, 3030, 2657, 3301, 2820, 1756, 3182, 2771, 980, 2493, 0, 2864, 2464, 2508, 1026, 2612, 3095, 1370, 1894, 3008, 2978, 1256, 2901, 2571, 1602, 2244, 1002, 2897, 2714, 1376, 990, 2976, 2646, 1541, 0, 2603, 1588, 888, 2792, 1024, 1893, 2110, 1616, 2356, 2854, 2896, 2980, 3078, 2902, 3009, 392, 2736, 2783, 2478, 2317, 2057, 2319, 2363, 2807, 2989, 3542, 2640, 3226, 1736, 3039, 2661, 2821, 1130, 2526, 1420, 568, 3258, 3050, 2925, 2716, 2131, 2648, 2974, 2165, 2216, 1804, 2437, 3027, 2186, 2890, 2594, 3169, 2920, 2364, 2859, 2665, 2923, 1955, 3133, 2678, 2269, 1476, 3020, 1154, 1505, 1579, 3017, 1997, 2480, 1012, 2426, 3003, 3143, 2158, 1218, 3334, 2889, 3167, 0, 0, 1548, 2103, 2860, 3088, 1628, 3164, 1994, 3317, 2872, 2987, 1982, 0, 2676, 0, 3445, 2346, 2862, 1087, 2649, 3279, 0, 2480, 3275, 3078, 761, 577, 2845, 2337, 3076, 344, 2907, 3029, 3054, 0, 3077, 1376, 3118, 2426, 2878, 1379, 1670, 2036, 3100, 2961, 2512, 3170, 2009, 3101, 2649, 2065, 3379, 2857, 1634, 2808, 2915, 0, 2516, 2552, 3396, 1081, 2917, 3000, 3050, 1058, 2947, 2828, 2801, 3255, 2245, 2889, 918, 2982, 2285, 3308, 2999, 2835, 1686, 2507, 2486, 1392, 2426, 1325, 1649, 3216, 1077, 3039, 2578, 2722, 1505, 132, 2816, 2899, 2866, 2113, 3030, 2694, 2966, 2258, 1939, 1974, 2893, 2910, 2765, 2834, 2885, 2650, 1327, 3187, 3048, 2275, 2296, 2952, 2963, 2906, 2606, 2362, 2655, 2425, 2309, 2859, 2775, 2923, 2421, 2538, 1544, 2745, 3093, 3036, 1641, 1464, 1708, 2828, 2813, 2762, 2252, 1977, 3039, 2963, 2356, 2974, 2713, 2682, 2477, 2662, 1068, 3091, 3019, 593, 1026, 3133, 1429, 2861, 3008, 1847, 2150, 2887, 2968, 2622, 2958, 2600, 3027, 3052, 3198, 2679, 2906, 3045, 2153, 1444, 1906, 2558, 1424, 2929, 3487, 3208, 2818, 2385, 2852, 1463, 3070, 2974, 3063, 2345, 3062, 3003, 2187, 3120, 2901, 490, 2928, 983, 2155, 2246, 2880, 3038, 2113, 3079, 3184, 3053, 3003, 3153, 2241, 2801, 2884, 2712, 2547, 1558, 2837, 2160, 2762, 2165, 2936, 2928, 2993, 2930, 2616, 2329, 2086, 1323, 2, 1460, 2999, 2367, 3114, 1874, 2861, 2855, 1169, 2738, 3234, 2764, 2397, 2689, 3114, 2672, 3114, 2813, 3142, 2858, 2143, 1839, 2869, 2955, 2375, 2437, 1827, 2862, 1976, 2458, 2310, 2842, 3000, 3164, 2577, 1959, 3214, 2243, 2982, 2638, 2717, 3241, 2866, 2146, 2275, 972, 510, 1020, 2950, 2548, 2905, 2185, 1055, 2937, 3267, 3496, 3299, 2190, 3117, 2986, 1808, 2832, 2855, 2962, 2714, 1448, 2433, 2915, 3078, 3592, 2758, 2638, 3146, 2593, 2501, 2356, 2976, 1824, 2975, 2271, 1350, 2719, 2867, 2952, 1525, 2963, 2998, 2661, 1026, 3115, 2844, 2935, 2428, 2004, 2990, 2144, 2866, 2585, 3193, 1780, 2836, 2742, 1575, 2662, 3209, 2952, 3098, 2886, 3152, 2512, 3153, 2939, 3369, 2404, 3137, 2565, 2944, 2843, 2852, 3273, 2979, 3132, 2791, 1877, 2993, 2438, 3026, 2748, 2539, 2579, 0, 2647, 712, 2832, 3003, 2891, 2581, 1358, 2976, 748, 2858, 2418, 2970, 2765, 1771, 2839, 2976, 2876, 2450, 2508, 2976, 3231, 2665, 2964, 1991, 3045, 1813, 2547, 3418, 3079, 3067, 1752, 3124, 2911, 2047, 2664, 2134, 1020, 2072, 1008, 2628, 1911, 2823, 3313, 0, 3247, 2484, 3042, 2836, 1156, 2645, 1868, 2926, 2833, 2574, 2323, 957, 3322, 2677, 2127, 3097, 2453, 2534, 2395, 3081, 3155, 1577, 2987, 870, 2920, 2334, 2970, 2114, 2085, 1034, 2290, 2812, 2008, 2823, 2808, 2129, 1050, 2918, 1036, 3222, 932, 2462, 2686, 3330, 3087, 2490, 2576]\n",
            "[2946, 1380, 3091, 2768, 3245, 2919, 1665, 2243, 2950, 3113, 3083, 2902, 2881, 2829, 3041, 2955, 2993, 2706, 658, 3224, 3414, 2736, 2383, 3029, 2683, 2651, 2776, 3119, 2952, 2383, 3113, 3084, 3061, 1698, 2780, 2570, 2680, 3374, 1910, 3150, 3017, 2565, 2720, 2769, 3120, 2944, 3204, 3009, 2927, 3080, 3037, 3171, 2891, 2736, 2390, 3157, 2905, 2274, 2845, 3037, 664, 1332, 3139, 200, 2991, 3089, 2838, 1769, 1481, 2219, 2659, 1773, 2201, 3051, 2898, 3156, 3028, 2783, 2591, 2801, 2232, 2354, 3157, 2409, 2711, 1879, 2767, 2731, 2812, 2663, 2970, 0, 3162, 3024, 3073, 2895, 3148, 2987, 2900, 2122, 2961, 2749, 810, 2942, 2980, 1156, 706, 2127, 3135, 1354, 1579, 1674, 2961, 2561, 1471, 2854, 2772, 3002, 2547, 2264, 2854, 2805, 3029, 2625, 1441, 2883, 3137, 1212, 2977, 2644, 3030, 2068, 2858, 3281, 2899, 0, 2890, 2919, 1640, 2501, 0, 3468, 2751, 2903, 2933, 2911, 3221, 3076, 1869, 3102, 3255, 2184, 3016, 3024, 2390, 1429, 2113, 2599, 3177, 2996, 3021, 2800, 1754, 2781, 2816, 1561, 2860, 2827, 806, 3192, 3202, 2970, 1328, 412, 2904, 2848, 3030, 2916, 2634, 2041, 2800, 3311, 2375, 2330, 2472, 3079, 3068, 2867, 2549, 3127, 2360, 2689, 3156, 3238, 2971, 2798, 2903, 2961, 2898, 2543, 2965, 3166, 2367, 3215, 1156, 2680, 2760, 2964, 3092, 3115, 2977, 1687, 3091, 2748, 2920, 2062, 2786, 2297, 3133, 3128, 2897, 1030, 2822, 2997, 3012, 3096, 2800, 3148, 3063, 2763, 2609, 2830, 2950, 2696, 2923, 3155, 2224, 2994, 2790, 3367, 2974, 2986, 2977, 2864, 3053, 2721, 2288, 2805, 2995, 2542, 2775, 2705, 3213, 2728, 2982, 2774, 2095, 3274, 2964, 3015, 3155, 2759, 2824, 2162, 2467, 2878, 2654, 2463, 2798, 1226, 3031, 2262, 1905, 2940, 3196, 3376, 2848, 3150, 2951, 3527, 2972, 2776, 2400, 3068, 2453, 2958, 1869, 0, 2819, 2615, 3137, 2021, 2895, 2949, 1991, 1563, 2571, 3278, 3293, 3110, 2865, 2995, 3015, 2515, 3343, 2978, 3364, 3354, 2943, 2975, 3087, 2888, 2993, 3327, 2244, 3166, 1432, 2415, 3115, 2910, 2946, 3018, 3007, 3317, 2744, 3309, 765, 3253, 3265, 2065, 3120, 1233, 3139, 3058, 1978, 2883, 2927, 3076, 3025, 2670, 2284, 1632, 2735, 2774, 3069, 2831, 2977, 3197, 3269, 1823, 2952, 1656, 3017, 3189, 2012, 2880, 2917, 2885, 3143, 2746, 1901, 2437, 2956, 2972, 2405, 2948, 3239, 2206, 2947, 1475, 2011, 2277, 819, 2639, 2882, 2741, 3066, 2876, 2788, 2874, 2546, 3079, 2583, 3140, 2982, 3140, 3002, 2239, 3214, 1701, 2914, 3300, 3027, 2730, 2955, 2894, 3260, 3005, 3008, 2629, 3133, 2940, 3114, 2703, 2895, 3093, 2805, 2644, 2139, 2879, 3309, 3029, 2794, 3122, 1400, 2695, 3160, 2721, 0, 2153, 3246, 3417, 2845, 2385, 1504, 3153, 2929, 2926, 3205, 2966, 620, 2509, 2971, 2893, 3095, 2724, 2979, 2765, 1968, 3023, 3254, 108, 2985, 2671, 3272, 3142, 1069, 3103, 2802, 3083, 2994, 938, 3064, 1861, 3024, 3092, 2658, 2818, 2863, 2677, 2487, 2202, 1893, 2840, 3262, 2062, 3254, 1035, 3198, 2816, 2978, 3253, 3054, 2867, 3250, 2604, 3084, 3180, 3195, 2914, 2089, 3272, 2998, 3042, 2710, 2975, 3290, 2909, 1772, 3262, 2947, 2842, 1496, 2604, 3019, 2119, 2822, 3249, 2940, 3185, 3006, 3130, 3168, 2936, 2166, 3050, 2864, 3153, 2974, 2921, 3280, 480, 3149, 2274, 2695, 2989, 3065, 2734, 3072, 2940, 2211, 3045, 2799, 3191, 3190, 2477, 2794, 2403, 2777, 3007, 2656, 2170, 2837, 2954, 2910, 2418, 2368, 2597, 2946, 3095, 3024, 2675, 2520, 0, 2969, 2661, 3176, 3119, 1473, 2132, 2957, 2004, 2858, 1975, 2982, 0, 1367, 2857, 3138, 3089, 2839, 3154, 2960, 2715, 3084, 1593, 3129, 3246, 2698, 3264, 3057, 2156, 3259, 3007, 2734, 3120, 2848, 3094, 2506, 2923, 3126, 2233, 3055, 2397, 3367, 3303, 3160, 2718, 2909, 3069, 2638, 2870, 2981, 3047, 2798, 3411, 3295, 3137, 2823, 2860, 2981, 2803, 1575, 3160, 2978, 2157, 1848, 3121, 2982, 2837, 2994, 3097, 2647, 2221, 2351, 2902, 1563, 2720, 2865, 1232, 2987, 2937, 1322, 3302, 2951, 2813, 2915, 2381, 3223, 1139, 3147, 2831, 3164, 2793, 3294, 3284, 2835, 3064, 3372, 3093, 1694, 3205, 2966, 2000, 2253, 2665, 3049, 2629, 2058, 1666, 2827, 2977, 1799, 2747, 3057, 2310, 3060, 2738, 2978, 3077, 3102, 2470, 2859, 3410, 3099, 2513, 1564, 2753, 2987, 2027, 2323, 3123, 3113, 2959, 2458, 2682, 3144, 2980, 3014, 3059, 3079, 2673, 1777, 1364, 2880, 2826, 2437, 2415, 2917, 2748, 2846, 2841, 3212, 2900, 3526, 3509, 2833, 2687, 2888, 2983, 3299, 3070, 3013, 3092, 3228, 2640, 3059, 2643, 3337, 622, 2925, 2748, 3006, 2114, 2995, 2716, 3134, 1258, 2895, 0, 3010, 3072, 3039, 2616, 2844, 2627, 3383, 2849, 304, 3020, 2897, 3359, 3327, 3126, 2732, 3110, 1884, 1921, 2926, 2969, 2034, 2854, 2984, 1929, 3144, 2753, 3300, 3067, 1089, 3158, 2957, 3087, 1888, 2805, 2702, 3271, 3315, 2844, 2900, 3187, 2949, 2517, 2170, 1660, 2760, 3198, 2797, 3206, 3394, 2524, 1848, 2732, 3151, 3028, 2929, 3217, 3137, 1623, 3091, 2920, 3069, 2868, 3058, 2909, 1687, 3088, 2964, 2473, 3076, 350, 1362, 1691, 3300, 2479, 3384, 3179, 1771, 2913, 2905, 3006, 3059, 3298, 2857, 3073, 3101, 1730, 3335, 2853, 2414, 2845, 156, 3080, 3182, 2654, 1326, 3050, 0, 1745, 2657, 1865, 2986, 1317, 3329, 2936, 3189, 2786, 2490, 1878, 3248, 0, 2733, 2234, 2809, 2476, 2952, 2779, 2830, 3227, 2597, 3490, 3188, 3116, 2845, 3045, 931, 3126, 3202, 3033, 2132, 2262, 3273, 3106, 0, 2351, 3079, 3004, 2922, 3032, 3097, 3026, 2926, 2477, 3167, 2907, 3065, 2405, 2971, 1444, 3086, 2884, 3163, 1483, 3354, 2515, 3032, 3277, 2755, 1069, 3340, 3162, 2975, 2833, 3242, 3065, 3079, 2733, 2479, 2060, 2832, 3340, 2828, 2367, 2953, 2827, 3224, 3165, 2923, 3189, 3672, 2821, 2746, 3444, 3241, 2618, 2977, 3050, 2372, 3211, 2183, 0, 2799, 3028, 2956, 1970, 1849, 3181, 2171, 3183, 3074, 2927, 3374, 2778, 3158, 3002, 2739, 3231, 2934, 2703, 3203, 3387, 3174, 2993, 3075, 2727, 2898, 3074, 2046, 2458, 3007, 3243, 2648, 3182, 3199, 2427, 3027, 3112, 2654, 2893, 2904, 3158, 2348, 1885, 1876, 2417, 3211, 3023, 2750, 2927, 1360, 3033, 2786, 3187, 2972, 2696, 2025, 2871, 2168, 2391, 2920, 2933, 3239, 3116, 1064, 2880, 3245, 2789, 2508, 1446, 2432, 2215, 3226, 2856, 3163, 2814, 3208, 3214, 2978, 3181, 3065, 2741, 2822, 2843, 1629, 3285, 2717, 3135, 2929, 3003, 3086, 2825, 2648, 1257, 3094, 3114, 1555, 2470, 2424, 1314, 3381, 2887, 3044, 2170, 3281, 2305, 3188, 1702, 2883, 3064, 3207, 2875, 2555, 3083, 2899, 2981, 2751, 1899, 2839, 2989, 2954, 2293, 3035, 2359, 3062, 2712, 3172, 2981, 2530, 2862, 2671, 3018, 3185, 3112, 3159, 3075, 2868, 2944, 3319, 2915, 3176, 2591, 2650, 2742, 2984, 3278, 3062, 2921, 3190, 2812, 3006, 3275, 1307, 2885, 2854, 2893, 2302, 1864, 2912, 3017, 3448, 2370, 2618, 1256, 3252, 1997, 3173, 2930, 2803, 2548, 2576, 756, 2156, 2987, 3043, 3009, 3274, 2980, 2578, 3373, 2111, 2893, 2806, 3025, 3002, 3464, 2953, 3304, 2554, 3123, 3285, 2849, 925, 2184, 2719, 3251, 1562, 2165, 1512, 2963, 1631, 3224, 1716, 2909, 3527, 2701, 2816, 2748, 2783, 1554, 3173, 2981, 3166, 2981, 2971, 3120, 2141, 1060, 3341, 3148, 2626, 3033, 3108, 2800, 2872, 2948, 2797, 3211, 2758, 2951, 2333, 1468, 2689, 2941, 3169, 3090, 2786, 2907, 2709, 3101, 511, 2349, 3177, 2318, 3045, 2865, 2871, 2869, 1261, 1161, 2908, 2608, 2744, 3028, 2856, 2780, 2984, 2205, 2551, 3004, 2690, 2807, 2743, 2965, 2631, 2846, 2995, 2667, 3093, 2537, 1144, 3025, 2938, 3345, 3184, 2175, 2062, 2428, 3422, 3342, 2496, 2929, 866, 2943, 1610, 2828, 2553, 3243, 2987, 2089, 1936, 3160, 3116, 2946, 3419, 2823, 3277, 1936, 1761, 2260, 2707, 2905, 2414, 2761, 3275, 1690, 2399, 3120, 2974, 3136, 2951, 2206, 2883, 3241, 2200, 3364, 2244, 2478, 1697, 2739, 2928, 2297, 2938, 3224, 2944, 2963, 1429, 3263, 3037, 2177, 2715, 1942, 3081, 3239, 2068, 3337, 2403, 2497, 3139, 3036, 721, 3216, 2405, 3115, 2975, 3199, 3119, 3167, 637, 2895, 1440, 2949, 2889, 2624, 1485, 1979, 2705, 3317, 3126, 3526, 2192, 3164, 3179, 2851, 2811, 2369, 2716, 3237, 2697, 2059, 2310, 3269, 1746, 3124, 1126, 3077, 3029, 2919, 3085, 2845, 3306, 1220, 2362, 379, 2927, 2055, 3114, 2831, 3192, 2783, 3132, 2970, 3334, 0, 2352, 3043, 3294, 2981, 3083, 2909, 1691, 3272, 3303, 2311, 1034, 2235, 2585, 2756, 3167, 2997, 2883, 2998, 2550, 2921, 2579, 2770, 2881, 2593, 2256, 2934, 2902, 3006, 3078, 0, 1980, 3068, 2842, 2936, 2787, 2598, 2835, 2991, 2792, 2642, 3173, 2716, 2968, 868, 0, 2721, 2841, 2959, 2165, 3287, 2571, 2884, 2715, 3222, 2501, 2835, 2991, 2585, 2663, 2046, 2420, 2234, 3178, 1292, 2474, 2416, 1440, 3063, 3311, 2822, 3158, 2544, 2046, 1960, 3112, 2740, 3466, 2513, 2624, 2874, 2114, 2133, 3242, 3178, 2989, 2600, 1806, 2588, 3176, 2961, 3024, 2688, 3298, 3008, 3088, 3217, 2632, 3051, 2739, 2641, 2592, 2941, 3044, 2898, 1681, 2964, 2556, 2328, 2087, 3273, 2939, 2306, 2938, 2953, 2341, 3111, 2677, 2972, 3037, 3251, 2446, 3026, 2938, 1842, 3395, 2484, 3006, 2371, 1841, 3155, 2911, 3017, 2604, 2744, 1847, 2175, 2931, 2353, 2652, 3067, 3242, 2983, 2591, 3050, 2791, 3332, 2912, 2927, 2707, 2766, 3081, 1545, 3148, 2472, 2977, 2059, 3370, 2947, 3049, 2998, 3013, 1092, 0, 3163, 3147, 2951, 3039, 3111, 2440, 2886, 3329, 3127, 3382, 2856, 2164, 2937, 3135, 2600, 2551, 3043, 3131, 2948, 3160, 3085, 3009, 2960, 1891, 3147, 3107, 2318, 920, 2822, 3014, 2056, 2979, 2761, 3075, 2760, 2559, 3114, 2691, 3133, 3119, 2392, 3168, 1797, 1547, 2326, 2953, 3149, 3318, 3162, 2572, 3091, 3058, 932, 3086, 2925, 3397, 2474, 2921, 1106, 2991, 3250, 2879, 1364, 2941, 3003, 3071, 3054, 2794, 1924, 2602, 2823, 3346, 2990, 0, 2701, 2741, 3095, 1790, 2867, 2784, 877, 2847, 2960, 3111, 3397, 1964, 3157, 2956, 2837, 2735, 2823, 2622, 2889, 2542, 2943, 3086, 2866, 3075, 3021, 2400, 3008, 1962, 2230, 2718, 2675, 3202, 1660, 2488, 2927, 2940, 3349, 950, 2854, 3160, 2866, 3121, 3151, 1539, 3121, 2658, 1264, 3037, 3257, 2891, 3066, 98, 2982, 3024, 3210, 3058, 2832, 2082, 2300, 3307, 2563, 1346, 2809, 3042, 3483, 2532, 3265, 2848, 3096, 2024, 2691, 2981, 482, 2948, 3095, 3051, 2997, 3094, 1712, 2211, 3272, 0, 2639, 2989, 3137, 264, 1490, 2511, 2551, 2759, 2264, 3203, 3339, 2139, 2692, 2995, 2918, 2901, 2983, 2810, 3373, 2817, 3029, 3289, 3095, 2887, 1022, 2723, 3113, 3064, 2848, 3248, 2588, 2677, 2969, 1940, 3187, 2945, 2648, 1482, 2854, 3416, 3172, 1887, 3122, 2762, 2967, 3187, 3607, 2916, 2360, 3227, 2861, 3014, 2867, 870, 2908, 3189, 2856, 3215, 2451, 2643, 3082, 3058, 3288, 2726, 2901, 2683, 2827, 2184, 3162, 3129, 2779, 2733, 2714, 3082, 2905, 2443, 3114, 2740, 2840, 2825, 2826, 2730, 3289, 3286, 2484, 3118, 2635, 3105, 2669, 3259, 1513, 2773, 2330, 2980, 2997, 2452, 3139, 2602, 2202, 632, 2999, 3151, 2532, 3020, 2962, 2979, 3054, 3169, 954, 3079, 2824, 2837, 2438, 2920, 2932, 2584, 3002, 3176, 2486, 2897, 2927, 1644, 2973, 2775, 3001, 2943, 3242, 2414, 2845, 2817, 1607, 2976, 1996, 1494, 3099, 2333, 2651, 2976, 2440, 2830, 3150, 3016, 2930, 3036, 2212, 1718, 2607, 2721, 2739, 442, 2605, 2981, 2943, 3121, 1320, 2716, 2094, 3105, 2902, 2973, 2947, 3218, 0, 3098, 3117, 2508, 2936, 1715, 3556, 2218, 2911, 2985, 2984, 3121, 1810, 1101, 2263, 2781, 3134, 3158, 52, 2409, 2872, 2913, 2519, 3166, 3086, 1287, 3092, 2915, 2498, 2722, 2657, 1254, 1222, 2856, 2938, 2584, 3005, 3018, 2871, 2985, 1785, 2974, 3073, 3067, 2530, 3020, 3039, 2275, 1633, 3205, 3036, 3201, 2742, 2952, 2303, 2621, 2960, 3269, 2368, 3210, 2971, 3168, 3164, 2224, 3026, 3038, 2907, 2849, 3018, 3011, 2930, 2778, 3554, 2374, 723, 2707, 3151, 2673, 2982, 886, 2985, 3137, 2218, 2957, 3089, 2734, 2731, 2823, 0, 2540, 2198, 3008, 2894, 2992, 2926, 2967, 2224, 1893, 3190, 3120, 2754, 2851, 3070, 3236, 2769, 1390, 1873, 3005, 3053, 1487, 2976, 3116, 3079, 2960, 2883, 3049, 3280, 1957, 1876, 1774, 2860, 2448, 3073, 0, 2625, 2219, 3309, 2745, 3039, 3044, 2817, 647, 0, 1716, 2051, 3059, 3309, 2860, 1981, 2222, 1081, 2726, 2291, 3117, 2873, 3183, 3029, 1916, 2962, 3130, 2577, 3410, 2932, 2601, 3051, 1433, 1921, 2817, 1698, 2974, 842, 2796, 3338, 1445, 2464, 2994, 2087, 2818, 2545, 2823, 2658, 2703, 2932, 2920, 2246, 2940, 1892, 2993, 3043, 2936, 2984, 3172, 3095, 899, 2793, 3100, 3102, 2780, 2527, 2651, 2882, 2132, 3136, 3000, 3008, 2934, 1925, 2892, 3227, 3106, 2764, 1476, 2667, 2680, 2653, 2616, 2318, 2667, 2486, 3004, 2921, 2947, 2796, 2105, 2573, 337, 2873, 2436, 2815, 2936, 3161, 2765, 2811, 2983, 3358, 2864, 2815, 3030, 3027, 2213, 3288, 2976, 3320, 2460, 2714, 3094, 3457, 2848, 3168, 3077, 2928, 338, 3066, 2500, 3168, 2895, 3025, 3071, 2651, 3167, 3187, 2831, 2811, 2747, 2920, 2819, 2796, 1380, 3459, 3131, 3038, 3014, 3186, 3121, 3073, 2995, 3112, 3262, 3405, 3041, 3056, 3162, 2492, 3048, 2888, 3227, 2758, 3153, 3070, 3344, 2375, 3161, 3084, 3261, 2797, 2923, 3025, 2984, 2161, 1776, 2931, 2652, 3193, 2918, 2998, 2993, 2542, 2935, 3136, 1452, 2227, 2950, 3087, 3163, 2982, 2729, 1803, 2849, 2630, 2845, 2603, 2988, 3064, 3054, 2965, 2972, 2922, 2748, 3232, 3091, 2958, 3295, 2923, 2586, 3186, 3029, 3061, 2931, 2692, 3241, 3105, 3238, 2965, 2821, 3149, 2758, 2981, 846, 3154, 2827, 3172, 2947, 3015, 3033, 2956, 3309, 2970, 2914, 2670, 2787, 2996, 3130, 2942, 3118, 2778, 1123, 3258, 2825, 2936, 2976, 3210, 2907, 3089, 3159, 3084, 3246, 3053, 2981, 3153, 3107, 3030, 2893, 3320, 2791, 3078, 3093, 3176, 3216, 2136, 2811, 2934, 3167, 2970, 3064, 3190, 2788, 2822, 3056, 3004, 3135, 2831, 3036, 2932, 2024, 3248, 3060, 2624, 2898, 3139, 3075, 2835, 3043, 2827, 2960, 3117, 2813, 3075, 2646, 2917, 2994, 3167, 2918, 3282, 2932, 3077, 2901, 3121, 2942, 2843, 3001, 2656, 2758, 2703, 3204, 3099, 3227, 2888, 3269, 3132, 3228, 3244, 3070, 3048, 3084, 3180, 2961, 2881, 2984, 1942, 2254, 2813, 2811, 3083, 3413, 2097, 3102, 3104, 3076, 3043, 3125, 2737, 3195, 3035, 2547, 3051, 2816, 2971, 2992, 3011, 2579, 3084, 3156, 2920, 2857, 3019, 2953, 2184, 2873, 2787, 2966, 3292, 2847, 2869, 2169, 1914, 3156, 3030, 2888, 2994, 3033, 3275, 3192, 2801, 3136, 3153, 3017, 3257, 3093, 3107, 3146, 2922, 3412, 2428, 2960, 2982, 3084, 3014, 2758, 2804, 3087, 3014, 3021, 2914, 2668, 3199, 3333, 3053, 2953, 2356, 2973, 1834, 3123, 3284, 2778, 2875, 2982, 3149, 3068, 3074, 2888, 2876, 2894, 2964, 2633, 2891, 2913, 3097, 2880, 3067, 2908, 2983, 3003, 3081, 3190, 3054, 2606, 2932, 2984, 2721, 2644, 2975, 2716, 2206, 3272, 1961, 3205, 3285, 2975, 2880, 3182, 2963, 2925, 2624, 1178, 2046, 3280, 3213, 3047, 3137, 2820, 2935, 2886, 2866, 3230, 3164, 3034, 2909, 3169, 2865, 3022, 3005, 2419, 3063, 2901, 3398, 3134, 3060, 2907, 2906, 2920, 3142, 2393, 3024, 3297, 3013, 2153, 38, 3235, 2867, 2872, 2767, 2978, 2964, 2963, 3001, 2618, 2965, 3122, 3021, 3115, 2758, 2796, 3224, 2898, 2947, 3122, 3087, 2964, 1713, 2924, 2991, 3094, 2888, 2718, 3336, 3033, 3138, 2870, 3224, 3145, 3155, 3096, 2772, 2961, 3126, 2710, 3014, 2920, 2725, 3099, 3297, 3004, 3000, 3133, 2367, 3080, 3043, 3079, 2886, 3096, 2953, 3032, 2782, 2958, 882, 2992, 2855, 2922, 3161, 2820, 1704, 1443, 3057, 3031, 3263, 2849, 3163, 1588, 2695, 2670, 3086, 1010, 2942, 3209, 2970, 3140, 3444, 3084, 2887, 2978, 2033, 2816, 2906, 2922, 3092, 2973, 2599, 2618, 3053, 2869, 3496, 2947, 2571, 1267, 3074, 2760, 3067, 2816, 2417, 2371, 1558, 2952, 3017, 3328, 3069, 2785, 2734, 2972, 2955, 3124, 2291, 2943, 3164, 2946, 3025, 3225, 2860, 3017, 3092, 3009, 3134, 2954, 3003, 3019, 1597, 3023, 3044, 2964, 2955, 3012, 3173, 3183, 2799, 1534, 3172, 2530, 3201, 3117, 2859, 2948, 2782, 2786, 3094, 3116, 3227, 2823, 2931, 3075, 2775, 2736, 2894, 3008, 2915, 3079, 3248, 2903, 3422, 3042, 2892, 2069, 3151, 3084, 3204, 3099, 2982, 2904, 2839, 3065, 3039, 1923, 3410, 3195, 3116, 3027, 3207, 3122, 3106, 3143, 2991, 2885, 2901, 2990, 3169, 2893, 3213, 3008, 3072, 3058, 2777, 2792, 3022, 2830, 2932, 2999, 3129, 929, 3064, 2856, 3099, 3169, 2743, 2482, 2551, 2760, 3163, 0, 2753, 3101, 2542, 3231, 2939, 3121, 3055, 3468, 2926, 2924, 3187, 3049, 2886, 2739, 2829, 3046, 3186, 2836, 3230, 2936, 3021, 3119, 2832, 3201, 2935, 3142, 3037, 1886, 2924, 2928, 2918, 2717, 3123, 3165, 3269, 2941, 3297, 2459, 3028, 3129, 2990, 3001, 2956, 2935, 3268, 3210, 1476, 2971, 2959, 3360, 2982, 2925, 2856, 3117, 2694, 3147, 3018, 2751, 1779, 2936, 3087, 3056, 1928, 3251, 2440, 3074, 3073, 3145, 3097, 3076, 2864, 2992, 2985, 3111, 3194, 2600, 3120, 2927, 2903, 3146, 3017, 2653, 3021, 2717, 2924, 3052, 2735, 3108, 3078, 2982, 2930, 3048, 2858, 3360, 2917, 3189, 2682, 3005, 3256, 3047, 3182, 2769, 3247, 3084, 2766, 3043, 3066, 3054, 2800, 2987, 3090, 2869, 3074, 2721, 3102, 2904, 2661, 3030, 2909, 2946, 3103, 2763, 3278, 2717, 3466, 2913, 3149, 2703, 2942, 2753, 3183, 3177, 2856, 3219, 2736, 2709, 2785, 1395, 3406, 3073, 2657, 3115, 2696, 3090, 2793, 2997, 2976, 3042, 3174, 2944, 2921, 2942, 2405, 3064, 2862, 3209, 2940, 2741, 2879, 3331, 2841, 2716, 3221, 3132, 78, 2966, 2826, 3034, 3051, 2770, 3075, 3098, 3112, 3141, 2897, 2966, 2887, 2636, 3283, 3088, 2378, 3136, 2601, 3086, 3392, 3023, 2969, 2867, 2867, 2590, 2742, 3077, 2694, 2897, 3243, 3013, 3241, 3295, 2949, 3070, 2894, 1617, 2880, 2989, 3139, 2608, 2317, 3034, 2938, 3318, 3026, 2985, 2976, 2908, 2948, 3087, 3046, 2868, 3210, 3131, 3273, 1508, 3201, 2272, 2947, 3117, 2752, 3037, 3094, 2622, 2849, 2989, 3243, 3111, 3170, 2729, 3161, 2928, 3000, 2862, 2660, 2826, 2476, 3228, 3009, 2752, 3146, 2947, 2923, 2957, 2961, 3219, 2812, 3113, 3046, 2218, 2957, 2642, 2678, 2865, 2814, 3318, 2869, 2745, 2850, 3320, 2858, 3009, 3128, 3051, 3079, 3170, 3099, 2946, 3160, 3295, 1286, 1419, 2892, 2571, 3149, 2806, 2521, 3005, 3071, 2995, 2750, 2901, 3002, 3073, 3101, 2889, 3271, 2671, 3064, 3508, 3004, 3089, 2811, 3095, 2739, 2404, 3085, 3176, 2701, 2156, 3159, 3098, 2966, 2962, 3181, 2789, 2883, 3041, 2730, 2939, 3057, 3075, 2325, 3111, 3002, 3179, 2905, 2557, 3049, 3045, 2908, 2869, 506, 2988, 3131, 3291, 3023, 3282, 2644, 3095, 2848, 2999, 2864, 3039, 2827, 3017, 2802, 3178, 2936, 3386, 3056, 2896, 2782, 2993, 3030, 2998, 2929, 2744, 2911, 3078, 3128, 3128, 2798, 2849, 2913, 2836, 2570, 3074, 2758, 2929, 3063, 3112, 2254, 3134, 3142, 3061, 3130, 2925, 3403, 3057, 2902, 3061, 3233, 2970, 3168, 2915, 2980, 3120, 2857, 2850, 2925, 2651, 3082, 3208, 2710, 3048, 3001, 3190, 2904, 3171, 2868, 2991, 3161, 2739, 1356, 2793, 3302, 2786, 3145, 3234, 3136, 2549, 2876, 2272, 3046, 2447, 3175, 2688, 3271, 2933, 2968, 2884, 3094, 2859, 1818, 3055, 2956, 2160, 2558, 1477, 2861, 3252, 3127, 3108, 3216, 2910, 2955, 2409, 2739, 3099, 3244, 2738, 3129, 3091, 2892, 2989, 3028, 3139, 3173, 2489, 3219, 2672, 2772, 3197, 3201, 564, 2747, 3065, 3113, 2952, 2943, 3359, 2175, 3252, 2973, 3059, 3073, 2862, 2127, 0, 2962, 2836, 2957, 3118, 2880, 2779, 2401, 2837, 3020, 3184, 3089, 2880, 2806, 3103, 3075, 2863, 2991, 3063, 3177, 3021, 3097, 2961, 2504, 2915, 3020, 2916, 3001, 3138, 3038, 3160, 2856, 2881, 3220, 3114, 3193, 1111, 2795, 2964, 3209, 2931, 3112, 3019, 2452, 3015, 3003, 3351, 2802, 3002, 2859, 3048, 2988, 3047, 3083, 2995, 3176, 3151, 2724, 2899, 2880, 2987, 2855, 3043, 3114, 3218, 2999, 3268, 2881, 2791, 2944, 3336, 3010, 3140, 3094, 2882, 2965, 2819, 3219, 2900, 3024, 2972, 3154, 3176, 3169, 2799, 3240, 2576, 1461, 2964, 3061, 2781, 3079, 2987, 3275, 3024, 2770, 3195, 2735, 3032, 2793, 2976, 3168, 2921, 3051, 2556, 3185, 3026, 2630, 3123, 2840, 3068, 3077, 2872, 3201, 3123, 2972, 3123, 3169, 3392, 2821, 3155, 2719, 3086, 2841, 2896, 3069, 3047, 3143, 3008, 2932, 2943, 2951, 3147, 2133, 2915, 2928, 2932, 2962, 3122, 2604, 3280, 1961, 2777, 2911, 3101, 2787, 3284, 2156, 2942, 2921, 2992, 2904, 3186, 3129, 3145, 3248, 3150, 3126, 3131, 3172, 3062, 2462, 3084, 2751, 1606, 2997, 3216, 3039, 2881, 2719, 3194, 2963, 3297, 3101, 3048, 3123, 2928, 3096, 3136, 3047, 2734, 3240, 3258, 713, 3339, 2945, 3271, 2795, 1703, 2465, 2974, 2932, 3240, 2412, 3101, 3437, 3157, 2840, 3094, 2816, 1717, 3175, 2877, 3185, 3090, 2953, 2828, 1973, 2923, 3047, 3232, 2835, 2409, 3057, 641, 2683, 3046, 3101, 2550, 3030, 2338, 3265, 3169, 2890, 2098, 2892, 3128, 2357, 71, 2851, 3065, 3109, 2851, 3250, 2852, 3026, 3010, 3032, 2497, 2843, 3054, 3255, 2697, 3161, 2685, 3092, 2649, 2881, 3220, 2254, 3153, 2895, 3038, 3007, 2567, 2014, 2789, 3100, 2857, 3182, 2931, 3161, 3034, 2913, 3165, 2715, 3160, 3003, 3220, 2975, 2763, 2927, 2746, 3350, 2352, 3309, 2927, 3124, 3022, 3151, 3173, 1968, 3003, 3113, 1736, 2669, 3205, 2830, 2172, 3380, 3031, 2781, 2863, 3073, 3172, 3055, 3161, 3019, 3253, 3197, 3015, 2879, 3022, 2817, 2959, 3237, 3282, 3142, 3037, 3182, 1432, 3253, 2846, 3119, 3031, 3063, 3249, 2878, 3046, 3185, 3264, 3024, 3233, 2858, 3180, 2807, 3341, 2967, 2828, 3238, 3012, 3049, 2847, 2930, 2384, 2748, 2315, 2635, 3131, 3104, 1332, 2931, 2973, 2986, 3123, 3098, 3189, 3131, 3006, 3089, 2744, 1906, 2946, 3004, 3014, 3229, 3000, 2710, 2599, 3048, 2986, 3135, 2789, 2806, 3087, 2926, 3154, 2867, 2975, 3192, 3304, 3031, 2908, 3284, 2341, 2184, 2993, 2467, 2928, 2868, 3070, 3125, 2834, 2814, 3157, 2900, 2569, 3076, 2999, 2823, 3215, 2937, 2870, 2669, 3159, 3064, 3109, 2592, 3094, 2829, 3057, 2845, 2522, 3069, 2711, 3175, 2405, 3168, 446, 3026, 2380, 3070, 3203, 2799, 3025, 3037, 2505, 2893, 3171, 3178, 3083, 2673, 3207, 3048, 3135, 3108, 2681, 2866, 3193, 3045, 3046, 3162, 2869, 1357, 3119, 2996, 2898, 2922, 2947, 2835, 3005, 2907, 2639, 2912, 2988, 3231, 3273, 2964, 938, 2885, 3104, 2446, 3023, 3054, 3321, 3007, 3162, 2981, 2936, 2769, 3090, 3076, 3164, 2209, 2924, 1565, 2950, 2969, 3092, 2824, 2523, 2927, 3026, 1340, 3025, 3023, 3278, 2827, 2927, 3092, 2974, 2810, 2909, 2680, 3200, 3232, 3213, 2885, 3114, 2905, 3036, 3080, 3190, 2453, 2803, 2890, 3167, 2894, 2919, 2773, 3026, 2874, 2983, 3107, 2997, 2834, 3156, 2075, 2959, 2926, 3199, 3288, 3085, 3189, 2994, 3209, 2944, 3051, 2917, 3082, 2715, 3018, 2948, 3246, 2680, 2995, 2878, 3219, 1510, 3078, 2891, 3128, 3108, 3194, 2886, 2922, 2954, 2873, 3148, 2981, 3228, 3143, 2979, 3100, 3083, 2939, 3211, 2789, 2405, 2778, 3099, 2853, 3040, 3267, 2835, 1522, 2421, 3046, 3206, 3228, 2996, 3121, 3099, 2821, 3127, 3122, 3069, 3020, 2922, 2749, 3020, 3017, 2789, 1093, 2862, 3284, 3028, 3103, 3231, 3118, 1859, 3099, 3408, 2367, 2967, 2993, 2881, 3015, 2971, 3167, 3061, 3143, 2883, 2727, 2745, 2559, 2945, 3206, 2325, 2993, 3060, 596, 2642, 2951, 2729, 3060, 2557, 3364, 3028, 3236, 2982, 3008, 2862, 3278, 0, 3018, 3143, 3056, 3247, 3142, 2790, 3167, 3125, 3048, 3126, 3154, 2823, 3294, 2658, 3112, 3113, 3043, 2963, 2518, 2942, 2429, 2964, 2122, 3081, 3109, 3063, 1040, 2951, 2759, 2552, 3221, 2807, 3103, 1843, 3080, 3145, 214, 3279, 2971, 3123, 2681, 3090, 2662, 2945, 3079, 3018, 3183, 2834, 3187, 3011, 2843, 3065, 2945, 2974, 2607, 3072, 2917, 2867, 3222, 2922, 1332, 3049, 2994, 3132, 3169, 2567, 3089, 2959, 2994, 2902, 3166, 2796, 2898, 3163, 2859, 3050, 2859, 3376, 3019, 3395, 2573, 2716, 3090, 2838, 3086, 3235, 3086, 3034, 3212, 2804, 3051, 2999, 3282, 3257, 2881, 2910, 2921, 3144, 3254, 3059, 3061, 2760, 2862, 3038, 3008, 3227, 2865, 2531, 2904, 3144, 2453, 2947, 3034, 3063, 2835, 2745, 2950, 3034, 2078, 2898, 3368, 2893, 3026, 2994, 2930, 3078, 2982, 2774, 2950, 2841, 2800, 3233, 3101, 3076, 2759, 2682, 2870, 3338, 2989, 3073, 2927, 1230, 2751, 2869, 2984, 2794, 3124, 2739, 3386, 3239, 3186, 2910, 2973, 3067, 3046, 3042, 2635, 2928, 2965, 1873, 2883, 3199, 3019, 2845, 2286, 3049, 3230, 3365, 2471, 2826, 3006, 2895, 3182, 2799, 3011, 2764, 3269, 3221, 2944, 2923, 3071, 2686, 3046, 3217, 3097, 3073, 3304, 2771, 2855, 3191, 2836, 3120, 2753, 2679, 2565, 2992, 3015, 2876, 2904, 2641, 3126, 3217, 2988, 3056, 2960, 3061, 3122, 2798, 3100, 3394, 2802, 3091, 2954, 2800, 2396, 3029, 2646, 2894, 2984, 3217, 3402, 2463, 3073, 3117, 2839, 2858, 3268, 3108, 2929, 3110, 1881, 2462, 2955, 3228, 2965, 2913, 3247, 1893, 2665, 2980, 2999, 2915, 2764, 2296, 2902, 2777, 3009, 2837, 3030, 2703, 3158, 3027, 2951, 3276, 3031, 3114, 3170, 2569, 2681, 2928, 3349, 3121, 3004, 2214, 2608, 2818, 2791, 2895, 3154, 3092, 1874, 2946, 3143, 2798, 2831, 3160, 2391, 2500, 3088, 3051, 2507, 3035, 2994, 3091, 2951, 2850, 3238, 3142, 2961, 3191, 3113, 3163, 2789, 2885, 2123, 2888, 2920, 2784, 3021, 2638, 2803, 2770, 2965, 942, 1215, 3194, 2952, 3129, 2914, 2982, 2825, 2961, 2944, 3047, 3175, 2731, 3010, 2942, 2851, 3253, 2193, 2611, 3083, 2943, 3161, 2972, 3077, 3176, 2954, 2503, 2775, 3331, 2817, 2543, 3104, 2120, 3145, 2816, 3108, 1863, 2982]\n",
            "2787.36\n",
            "2787.36\n"
          ]
        }
      ]
    },
    {
      "cell_type": "markdown",
      "source": [
        "# DataFrame\n"
      ],
      "metadata": {
        "id": "OUTbBaaHOW0R"
      }
    },
    {
      "cell_type": "code",
      "source": [
        "from pyspark.sql.types import *\n",
        "columns = [\"mean\", \"min\", \"max\", \"mxsig\", \"dist\", \"ca1\", \"ca2\", \"ca3\", \"ca4\",\"ca5\", \"cd1\",\"cd2\", \"cd3\", \"cd4\", \"cd5\", \"ca12\", \"ca22\", \"ca32\", \"ca42\",\"ca52\", \"cd12\",\"cd22\", \"cd32\", \"cd42\", \"cd52\", \"minmax\",\"label\"]\n",
        "schema = StructType([\n",
        "                     StructField(\"mean\", DoubleType(), True),\n",
        "                     StructField(\"min\", DoubleType(), True),\n",
        "                     StructField(\"max\", DoubleType(), True),\n",
        "                     StructField(\"mxsig\", DoubleType(), True),\n",
        "                     StructField(\"dist\", DoubleType(), True),\n",
        "                     StructField(\"cal\", DoubleType(), True),\n",
        "                     StructField(\"ca2\", DoubleType(), True),\n",
        "                     StructField(\"ca3\", DoubleType(), True),\n",
        "                     StructField(\"ca4\", DoubleType(), True),\n",
        "                     StructField(\"ca5\", DoubleType(), True),\n",
        "                     StructField(\"cd1\", DoubleType(), True),\n",
        "                     StructField(\"cd2\", DoubleType(), True),\n",
        "                     StructField(\"cd3\", DoubleType(), True),\n",
        "                     StructField(\"cd4\", DoubleType(), True),\n",
        "                     StructField(\"cd5\", DoubleType(), True),\n",
        "                     StructField(\"cal2\", DoubleType(), True),\n",
        "                     StructField(\"ca22\", DoubleType(), True),\n",
        "                     StructField(\"ca32\", DoubleType(), True),\n",
        "                     StructField(\"ca42\", DoubleType(), True),\n",
        "                     StructField(\"ca52\", DoubleType(), True),\n",
        "                     StructField(\"cd12\", DoubleType(), True),\n",
        "                     StructField(\"cd22\", DoubleType(), True),\n",
        "                     StructField(\"cd32\", DoubleType(), True),\n",
        "                     StructField(\"cd42\", DoubleType(), True),\n",
        "                     StructField(\"cd52\", DoubleType(), True),\n",
        "                     StructField(\"minmax\", DoubleType(), True),\n",
        "                     StructField(\"label\", IntegerType(), True)\n",
        "])\n",
        "print(len(columns))"
      ],
      "metadata": {
        "id": "kph2jHVSOZvv",
        "colab": {
          "base_uri": "https://localhost:8080/"
        },
        "outputId": "6e64256a-1100-472a-f8a9-775c3b41c405"
      },
      "execution_count": null,
      "outputs": [
        {
          "output_type": "stream",
          "name": "stdout",
          "text": [
            "27\n"
          ]
        }
      ]
    },
    {
      "cell_type": "code",
      "source": [
        "def transform_tuple(tup, label=False):\n",
        "  new_tup = []\n",
        "  if not label: \n",
        "    for i in tup:\n",
        "      if type(i) is list:\n",
        "        new_tup.append([float(j) for j in i])\n",
        "      else:\n",
        "        new_tup.append(float(i))\n",
        "  else:\n",
        "    for i in tup[:-1]:\n",
        "      if type(i) is list:\n",
        "        new_tup.append([float(j) for j in i])\n",
        "      else:\n",
        "        new_tup.append(float(i))\n",
        "    new_tup.append(tup[-1])\n",
        "  return tuple(new_tup)\n"
      ],
      "metadata": {
        "id": "5MwqY4zw9k1M"
      },
      "execution_count": null,
      "outputs": []
    },
    {
      "cell_type": "code",
      "source": [
        "df = []\n",
        "for p in range(400*2):\n",
        "  df.append([mean_pos[p], p_minv[0][p], p_maxv[0][p], p_dm[1][p], p_dist[p], cap[0][p],cap[1][p],cap[2][p], cap[3][p],cap[4][p], cdp[0][p], cdp[1][p], cdp[2][p], cdp[3][p], cdp[4][p], cap2[0][p],cap2[1][p],cap2[2][p], cap2[3][p],cap2[4][p], cdp2[0][p], cdp2[1][p], cdp2[2][p], cdp2[3][p], cdp2[4][p], min_max(p_minv, p_maxv, p), 1])\n",
        "for n in range(2000*2):\n",
        "  df.append([mean_neg[n], n_minv[0][n], n_maxv[0][n], n_dm[1][n], n_dist[n], can[0][n],can[1][n],can[2][n], can[3][n],can[4][n], cdn[0][n], cdn[1][n],cdn[2][n], cdn[3][n], cdn[4][n], can2[0][n],can2[1][n],can2[2][n], can2[3][n],can2[4][n], cdn2[0][n], cdn2[1][n],cdn2[2][n], cdn2[3][n], cdn2[4][n],min_max(n_minv, n_maxv, n),0])\n",
        "\n",
        "dfd = spark.createDataFrame([ \n",
        "                              transform_tuple(tup, label=True) for tup in df\n",
        "], columns)\n",
        "\n",
        "dfd.show(5)"
      ],
      "metadata": {
        "colab": {
          "base_uri": "https://localhost:8080/"
        },
        "id": "fuO2CCYQP9d0",
        "outputId": "b8a2751e-dfd5-49bb-906d-2fe9611f21be"
      },
      "execution_count": null,
      "outputs": [
        {
          "output_type": "stream",
          "name": "stdout",
          "text": [
            "+------------------+------------------+------------------+------------------+-----------------+------------------+------------------+-----------------+------------------+------------------+-----------------+------------------+------------------+------------------+------------------+------------------+------------------+------------------+------------------+------------------+-------------------+-------------------+--------------------+--------------------+--------------------+------------------+-----+\n",
            "|              mean|               min|               max|             mxsig|             dist|               ca1|               ca2|              ca3|               ca4|               ca5|              cd1|               cd2|               cd3|               cd4|               cd5|              ca12|              ca22|              ca32|              ca42|              ca52|               cd12|               cd22|                cd32|                cd42|                cd52|            minmax|label|\n",
            "+------------------+------------------+------------------+------------------+-----------------+------------------+------------------+-----------------+------------------+------------------+-----------------+------------------+------------------+------------------+------------------+------------------+------------------+------------------+------------------+------------------+-------------------+-------------------+--------------------+--------------------+--------------------+------------------+-----+\n",
            "| 94.74668884277344|-1054.208251953125|466.25299072265625|1051.7469482421875|334.8883972167969|166.32029724121094|308.55975341796875|55.70088577270508| 72.50066375732422|  66.0536880493164|8.345054626464844|14.046000480651855|1.8356167078018188|  2.16106915473938| 1.582553744316101|167.59617614746094| 304.3424072265625| 55.04081344604492| 71.93029022216797| 66.45919036865234|0.05006755143404007|0.10174591839313507|0.027006283402442932|0.023027542978525162|   0.017197385430336|1788.3773193359375|    1|\n",
            "|103.90412139892578|-684.5274047851562| 739.9055786132812|1979.7923583984375|421.1070251464844|142.11599731445312|  439.853271484375|58.74995040893555| 42.69038772583008|50.096492767333984|7.269387722015381|20.189476013183594|3.0985472202301025|  2.26693058013916|1.9438074827194214|140.89935302734375| 433.5894470214844|58.012969970703125| 42.62107467651367| 49.56787872314453|0.04086529463529587| 0.0546310655772686|0.018823916092514992|0.025974459946155548|0.016901539638638496|     4565.94140625|    1|\n",
            "|115.71253204345703|-905.8851318359375|  383.366943359375|1028.4002685546875|445.4887390136719| 230.4939727783203| 388.3968505859375| 94.6874008178711| 47.66353988647461| 56.26890182495117|9.500537872314453|17.762893676757812| 4.011864185333252|2.5342891216278076| 2.243140935897827|227.13644409179688|382.55255126953125| 93.31285095214844|47.001651763916016|55.231910705566406|0.08243557810783386|0.11090835183858871|0.020941296592354774|0.023327121511101723|0.021654129028320312|     2439.80859375|    1|\n",
            "|  83.0274429321289|-482.0818176269531| 358.5702209472656|   1398.0673828125|318.2821960449219|121.23221588134766| 338.7822570800781|50.52751541137695|40.213314056396484| 35.89088439941406| 5.24838399887085|13.001111030578613|1.3267388343811035| 1.234283208847046|1.2358837127685547|119.72406768798828| 335.6770935058594|51.001258850097656| 41.42426300048828|35.775657653808594|0.05226592347025871|0.11403989791870117|0.015587767586112022|0.018584569916129112|0.017316171899437904|  3216.16552734375|    1|\n",
            "| 78.62785339355469|-385.7182922363281| 614.3660278320312|1598.2152099609375|326.1260070800781|131.53797912597656| 344.1777648925781| 36.9948844909668|22.553861618041992|20.313989639282227|5.797297954559326| 12.69212818145752|1.7699660062789917|1.2340279817581177|1.1920289993286133|133.69305419921875| 344.8670349121094| 36.94971466064453| 22.54721450805664|20.271697998046875|0.06272611767053604|0.10695916414260864|0.025973690673708916|0.014890582300722599|0.013549520634114742|  3728.39306640625|    1|\n",
            "+------------------+------------------+------------------+------------------+-----------------+------------------+------------------+-----------------+------------------+------------------+-----------------+------------------+------------------+------------------+------------------+------------------+------------------+------------------+------------------+------------------+-------------------+-------------------+--------------------+--------------------+--------------------+------------------+-----+\n",
            "only showing top 5 rows\n",
            "\n"
          ]
        }
      ]
    },
    {
      "cell_type": "code",
      "source": [
        "from pyspark.ml.feature import VectorAssembler\n",
        "from pyspark.ml import Pipeline\n",
        "stages = []\n",
        "\n",
        "numeric_columns = columns[:-1]\n",
        "assembler = VectorAssembler(inputCols=numeric_columns, outputCol = 'features')\n",
        "featureDf = assembler.transform(dfd)\n",
        "featureDf.printSchema()\n",
        "featureDf.show(5)\n",
        "\n",
        "train, test = featureDf.randomSplit([0.8, 0.2])\n",
        "print(\"Training Dataset Count: \" + str(train.count()))\n",
        "print(\"Test Dataset Count: \" + str(test.count()))"
      ],
      "metadata": {
        "colab": {
          "base_uri": "https://localhost:8080/"
        },
        "id": "-gGKUm8FSCwD",
        "outputId": "20580ad4-1fe3-45a5-fb18-73e591d19f45"
      },
      "execution_count": null,
      "outputs": [
        {
          "output_type": "stream",
          "name": "stdout",
          "text": [
            "root\n",
            " |-- mean: double (nullable = true)\n",
            " |-- min: double (nullable = true)\n",
            " |-- max: double (nullable = true)\n",
            " |-- mxsig: double (nullable = true)\n",
            " |-- dist: double (nullable = true)\n",
            " |-- ca1: double (nullable = true)\n",
            " |-- ca2: double (nullable = true)\n",
            " |-- ca3: double (nullable = true)\n",
            " |-- ca4: double (nullable = true)\n",
            " |-- ca5: double (nullable = true)\n",
            " |-- cd1: double (nullable = true)\n",
            " |-- cd2: double (nullable = true)\n",
            " |-- cd3: double (nullable = true)\n",
            " |-- cd4: double (nullable = true)\n",
            " |-- cd5: double (nullable = true)\n",
            " |-- ca12: double (nullable = true)\n",
            " |-- ca22: double (nullable = true)\n",
            " |-- ca32: double (nullable = true)\n",
            " |-- ca42: double (nullable = true)\n",
            " |-- ca52: double (nullable = true)\n",
            " |-- cd12: double (nullable = true)\n",
            " |-- cd22: double (nullable = true)\n",
            " |-- cd32: double (nullable = true)\n",
            " |-- cd42: double (nullable = true)\n",
            " |-- cd52: double (nullable = true)\n",
            " |-- minmax: double (nullable = true)\n",
            " |-- label: long (nullable = true)\n",
            " |-- features: vector (nullable = true)\n",
            "\n",
            "+------------------+------------------+------------------+------------------+-----------------+------------------+------------------+-----------------+------------------+------------------+-----------------+------------------+------------------+------------------+------------------+------------------+------------------+------------------+------------------+------------------+-------------------+-------------------+--------------------+--------------------+--------------------+------------------+-----+--------------------+\n",
            "|              mean|               min|               max|             mxsig|             dist|               ca1|               ca2|              ca3|               ca4|               ca5|              cd1|               cd2|               cd3|               cd4|               cd5|              ca12|              ca22|              ca32|              ca42|              ca52|               cd12|               cd22|                cd32|                cd42|                cd52|            minmax|label|            features|\n",
            "+------------------+------------------+------------------+------------------+-----------------+------------------+------------------+-----------------+------------------+------------------+-----------------+------------------+------------------+------------------+------------------+------------------+------------------+------------------+------------------+------------------+-------------------+-------------------+--------------------+--------------------+--------------------+------------------+-----+--------------------+\n",
            "| 94.74668884277344|-1054.208251953125|466.25299072265625|1051.7469482421875|334.8883972167969|166.32029724121094|308.55975341796875|55.70088577270508| 72.50066375732422|  66.0536880493164|8.345054626464844|14.046000480651855|1.8356167078018188|  2.16106915473938| 1.582553744316101|167.59617614746094| 304.3424072265625| 55.04081344604492| 71.93029022216797| 66.45919036865234|0.05006755143404007|0.10174591839313507|0.027006283402442932|0.023027542978525162|   0.017197385430336|1788.3773193359375|    1|[94.7466888427734...|\n",
            "|103.90412139892578|-684.5274047851562| 739.9055786132812|1979.7923583984375|421.1070251464844|142.11599731445312|  439.853271484375|58.74995040893555| 42.69038772583008|50.096492767333984|7.269387722015381|20.189476013183594|3.0985472202301025|  2.26693058013916|1.9438074827194214|140.89935302734375| 433.5894470214844|58.012969970703125| 42.62107467651367| 49.56787872314453|0.04086529463529587| 0.0546310655772686|0.018823916092514992|0.025974459946155548|0.016901539638638496|     4565.94140625|    1|[103.904121398925...|\n",
            "|115.71253204345703|-905.8851318359375|  383.366943359375|1028.4002685546875|445.4887390136719| 230.4939727783203| 388.3968505859375| 94.6874008178711| 47.66353988647461| 56.26890182495117|9.500537872314453|17.762893676757812| 4.011864185333252|2.5342891216278076| 2.243140935897827|227.13644409179688|382.55255126953125| 93.31285095214844|47.001651763916016|55.231910705566406|0.08243557810783386|0.11090835183858871|0.020941296592354774|0.023327121511101723|0.021654129028320312|     2439.80859375|    1|[115.712532043457...|\n",
            "|  83.0274429321289|-482.0818176269531| 358.5702209472656|   1398.0673828125|318.2821960449219|121.23221588134766| 338.7822570800781|50.52751541137695|40.213314056396484| 35.89088439941406| 5.24838399887085|13.001111030578613|1.3267388343811035| 1.234283208847046|1.2358837127685547|119.72406768798828| 335.6770935058594|51.001258850097656| 41.42426300048828|35.775657653808594|0.05226592347025871|0.11403989791870117|0.015587767586112022|0.018584569916129112|0.017316171899437904|  3216.16552734375|    1|[83.0274429321289...|\n",
            "| 78.62785339355469|-385.7182922363281| 614.3660278320312|1598.2152099609375|326.1260070800781|131.53797912597656| 344.1777648925781| 36.9948844909668|22.553861618041992|20.313989639282227|5.797297954559326| 12.69212818145752|1.7699660062789917|1.2340279817581177|1.1920289993286133|133.69305419921875| 344.8670349121094| 36.94971466064453| 22.54721450805664|20.271697998046875|0.06272611767053604|0.10695916414260864|0.025973690673708916|0.014890582300722599|0.013549520634114742|  3728.39306640625|    1|[78.6278533935546...|\n",
            "+------------------+------------------+------------------+------------------+-----------------+------------------+------------------+-----------------+------------------+------------------+-----------------+------------------+------------------+------------------+------------------+------------------+------------------+------------------+------------------+------------------+-------------------+-------------------+--------------------+--------------------+--------------------+------------------+-----+--------------------+\n",
            "only showing top 5 rows\n",
            "\n",
            "Training Dataset Count: 3840\n",
            "Test Dataset Count: 960\n"
          ]
        }
      ]
    },
    {
      "cell_type": "markdown",
      "source": [
        "# Gradient Boosted Trees"
      ],
      "metadata": {
        "id": "spF96IysUGNd"
      }
    },
    {
      "cell_type": "code",
      "source": [
        "from pyspark.ml.classification import GBTClassifier\n",
        "gbt = GBTClassifier(labelCol=\"label\", featuresCol=\"features\", maxIter=100)\n",
        "gbtmodel = gbt.fit(train)\n",
        "predictions = gbtmodel.transform(test)\n",
        "predictions.show(10)\n",
        "\n",
        "from pyspark.ml.evaluation import BinaryClassificationEvaluator\n",
        "evaluator = BinaryClassificationEvaluator()\n",
        "print('Test evaluation', evaluator.evaluate(predictions))"
      ],
      "metadata": {
        "colab": {
          "base_uri": "https://localhost:8080/"
        },
        "id": "lj_kJbjdUKO-",
        "outputId": "7d5e7d1c-d96c-4126-8d72-6ea5ec1a5883"
      },
      "execution_count": null,
      "outputs": [
        {
          "output_type": "stream",
          "name": "stdout",
          "text": [
            "+------------------+-------------------+------------------+------------------+------------------+------------------+------------------+------------------+------------------+------------------+------------------+------------------+------------------+------------------+------------------+------------------+------------------+------------------+------------------+------------------+--------------------+--------------------+--------------------+--------------------+--------------------+------------------+-----+--------------------+--------------------+--------------------+----------+\n",
            "|              mean|                min|               max|             mxsig|              dist|               ca1|               ca2|               ca3|               ca4|               ca5|               cd1|               cd2|               cd3|               cd4|               cd5|              ca12|              ca22|              ca32|              ca42|              ca52|                cd12|                cd22|                cd32|                cd42|                cd52|            minmax|label|            features|       rawPrediction|         probability|prediction|\n",
            "+------------------+-------------------+------------------+------------------+------------------+------------------+------------------+------------------+------------------+------------------+------------------+------------------+------------------+------------------+------------------+------------------+------------------+------------------+------------------+------------------+--------------------+--------------------+--------------------+--------------------+--------------------+------------------+-----+--------------------+--------------------+--------------------+----------+\n",
            "|12.655983924865723|-39.354156494140625| 45.86666488647461|  98.6344985961914| 40.36494445800781|18.821910858154297| 28.51380157470703|13.551612854003906| 9.495912551879883|18.977025985717773|0.9043142199516296|1.3516842126846313|0.9407928586006165|0.6365768313407898|0.9867393970489502| 19.01504898071289|28.176313400268555|13.612995147705078|  9.56464672088623|18.948009490966797|0.022813942283391953|0.027806159108877182| 0.01943015865981579|0.016960959881544113|0.020108575001358986|    179.9892578125|    1|[12.6559839248657...|[1.57184729293937...|[0.95865955074403...|       0.0|\n",
            "|14.254663467407227| -48.00143051147461| 25.22291374206543| 89.41656494140625| 49.47848129272461|12.064343452453613| 34.49973678588867| 25.04991340637207|10.220545768737793|18.848901748657227|0.6937153935432434|1.3381327390670776|0.9978957772254944|0.6405068635940552| 0.973919153213501|12.038466453552246|34.118743896484375|24.873743057250977|  10.1122407913208|18.574609756469727|0.020364034920930862|0.022272413596510887|0.019232798367738724|0.013190017081797123|0.023160124197602272|361.60723876953125|    1|[14.2546634674072...|[1.38486839401384...|[0.94101837923231...|       0.0|\n",
            "| 15.44964599609375| -75.09628295898438| 72.94758605957031| 45.17764663696289|   47.522705078125|17.891756057739258| 37.52227783203125|  15.8683500289917|18.966066360473633| 18.88257598876953|0.9304433465003967| 1.358481526374817|0.9639109969139099|0.7382176518440247|0.9974356293678284|17.836626052856445|37.061676025390625| 16.15030860900879| 18.70461082458496| 18.60110855102539| 0.02323080785572529|0.029138019308447838|0.021169526502490044|0.013811412267386913|0.020120486617088318|234.66818237304688|    1|[15.4496459960937...|[1.05467433274503...|[0.89180850455009...|       0.0|\n",
            "| 16.32802963256836|  -86.9703369140625|34.794586181640625| 98.98922729492188|53.656368255615234| 18.62230110168457| 42.75010299682617|  26.4842472076416|  9.70473575592041|17.766124725341797|0.7902481555938721|1.6049731969833374|1.0725233554840088|0.5473953485488892|1.0478883981704712|18.369827270507812|42.180145263671875| 26.23848533630371| 9.824212074279785|18.386367797851562|0.021114550530910492|0.031068190932273865|0.020328527316451073|0.013208518736064434|0.016590958461165428| 382.0469055175781|    1|[16.3280296325683...|[-1.1125135144806...|[0.09752545808133...|       1.0|\n",
            "| 17.00096321105957| -42.60517120361328|53.929481506347656| 68.93572235107422|  51.0928840637207|18.793113708496094| 32.64738082885742|22.101533889770508|18.981992721557617| 27.56041145324707|0.9410161375999451| 1.703493595123291|1.3077173233032227|0.7577236294746399| 0.925814151763916|18.631908416748047| 32.66011047363281|21.767269134521484|18.647584915161133|27.041410446166992|0.019722845405340195|0.025369806215167046|0.018292970955371857|0.013563251122832298|0.021442502737045288|        194.078125|    1|[17.0009632110595...|[1.46640644713840...|[0.94944486288866...|       0.0|\n",
            "|18.065093994140625| -82.22590637207031| 48.65608596801758| 92.98564147949219|62.899017333984375|  22.9656925201416|   53.058837890625|17.594942092895508|11.183704376220703| 22.83278465270996|0.7945680022239685|1.4868364334106445| 1.020349144935608| 0.651519238948822|1.1099321842193604|22.601764678955078| 52.20615768432617|17.377723693847656|11.088929176330566|22.709728240966797|0.017500774934887886| 0.02130446583032608|0.018634913489222527|0.015685783699154854| 0.01927168108522892|328.19659423828125|    1|[18.0650939941406...|[0.61429557687928...|[0.77357189810752...|       0.0|\n",
            "|18.076587677001953|-208.07919311523438| 169.0387725830078| 257.6656799316406| 60.40391159057617|33.299129486083984|43.367401123046875| 19.91120719909668| 15.28729248046875|15.845649719238281|1.3072593212127686|1.7950458526611328|1.1298869848251343|0.7612681984901428|1.0408324003219604|  32.7646598815918| 42.72686004638672|19.760284423828125|15.103606224060059|15.877592086791992| 0.01998230442404747|0.025586063042283058| 0.02357027679681778|0.015592238865792751|0.024211257696151733| 515.7852783203125|    1|[18.0765876770019...|[-0.5084566454415...|[0.26562908997366...|       1.0|\n",
            "|19.868701934814453|-119.98518371582031| 65.92350006103516|116.02900695800781| 66.05928802490234| 23.99253273010254| 49.12941360473633|17.427717208862305|27.348115921020508| 22.50185203552246|0.8907402157783508|1.5039058923721313|0.7383155226707458| 0.807318389415741|0.9536753296852112|23.628480911254883| 48.07735061645508|17.466171264648438|26.849729537963867| 22.70230484008789| 0.01761806011199951|0.021577777341008186| 0.01748719811439514|0.015014534816145897|0.017945576459169388|397.30096435546875|    1|[19.8687019348144...|[0.64349141320744...|[0.78363606343409...|       0.0|\n",
            "|20.758817672729492|-104.01408386230469|59.111717224121094|123.39224243164062| 69.82447052001953|27.947153091430664| 58.68989562988281|29.567960739135742|14.810383796691895|15.713601112365723|0.8495147228240967|1.6546735763549805|1.0553745031356812|0.6885344386100769|0.8457972407341003|27.409360885620117|57.565399169921875|29.008602142333984|14.731681823730469|15.732314109802246|0.019438326358795166|0.022302282974123955|0.020688338205218315|0.013518906198441982|0.020932160317897797|361.03289794921875|    1|[20.7588176727294...|[-0.7460858899449...|[0.18359597888611...|       1.0|\n",
            "| 20.93718147277832| -84.79367065429688|  97.0794906616211| 157.2200927734375| 77.10419464111328| 38.52438735961914| 68.29519653320312|14.463072776794434|12.867131233215332|13.670605659484863|2.6969387531280518| 4.286860466003418|1.1001840829849243|0.7168555855751038| 0.691746175289154| 38.28504180908203| 68.11006927490234| 14.34687614440918|13.058655738830566|13.734034538269043| 0.04142500460147858| 0.05052121356129646| 0.01992959901690483|0.014081270433962345|0.014445093460381031|325.39447021484375|    0|[20.9371814727783...|[2.15459614658031...|[0.98673394979576...|       0.0|\n",
            "+------------------+-------------------+------------------+------------------+------------------+------------------+------------------+------------------+------------------+------------------+------------------+------------------+------------------+------------------+------------------+------------------+------------------+------------------+------------------+------------------+--------------------+--------------------+--------------------+--------------------+--------------------+------------------+-----+--------------------+--------------------+--------------------+----------+\n",
            "only showing top 10 rows\n",
            "\n",
            "Test evaluation 0.9715275949811331\n"
          ]
        }
      ]
    },
    {
      "cell_type": "markdown",
      "source": [
        "# Transform data test\n"
      ],
      "metadata": {
        "id": "WURWJzabSwJQ"
      }
    },
    {
      "cell_type": "code",
      "source": [
        "file_n = \"/content/drive/MyDrive/ColabNotebooks/Project/exp12-test-1200.bin\"\n",
        "test_data = np.fromfile(file_n, dtype=np.float32).reshape([1200, 5, 768])\n",
        "data_test = []\n",
        "\n",
        "(cA_t , cD_t) = pywt.dwt(test_data,\"db1\") # Wavelet Transform, Daubechies 1st coeffient\n",
        "(cA2_t , cD2_t) = pywt.dwt(test_data,\"db10\") # Wavelet Transform, Daubechies  10th coefficient\n",
        "\n",
        "for j, i in enumerate(test_data):\n",
        "  mean_t = np.mean(np.absolute(i)) # Mean\n",
        "  min_value = np.absolute(min([min(i[0]), min(i[1]), min(i[2]), min(i[3]), min(i[4])])) \n",
        "  max_value = max([max(i[0]), max(i[1]), max(i[2]), max(i[3]), max(i[4])])\n",
        "  mm_t = min_value + max_value # Minmax\n",
        "  min_t = min(i[0]) # min\n",
        "  max_t = max(i[0]) # max\n",
        "  mxsig_t = max(get_difference(i, 5)[1]) # Mxsig\n",
        "  dist_t = get_distance(i) # dist\n",
        "  ca_t = np.mean(np.absolute(cA_t[j]),axis = 1) # ca1, ca2, ca3 \n",
        "  cd_t = np.mean(np.absolute(cD_t[j]), axis = 1) # cd1, cd2, cd3\n",
        "  ca2_t = np.mean(np.absolute(cA2_t[j]),axis = 1) # ca1, ca2, ca3 \n",
        "  cd2_t = np.mean(np.absolute(cD2_t[j]),axis = 1) # ca1, ca2, ca3 \n",
        "  data_test.append([mean_t , min_t, max_t, mxsig_t, dist_t,ca_t[0], ca_t[1], ca_t[2], ca_t[3], ca_t[4], cd_t[0], cd_t[1], cd_t[2], cd_t[3], cd_t[4], ca2_t[0], ca2_t[1], ca2_t[2], ca2_t[3], ca2_t[4],cd2_t[0], cd2_t[1], cd2_t[2], cd2_t[3], cd2_t[4], mm_t])"
      ],
      "metadata": {
        "id": "spe02K6SSyMg"
      },
      "execution_count": null,
      "outputs": []
    },
    {
      "cell_type": "code",
      "source": [
        "dfd_test = spark.createDataFrame([ \n",
        "                              transform_tuple(tup) for tup in data_test\n",
        "], columns[:-1])\n",
        "\n",
        "print(numeric_columns)\n",
        "assembler = VectorAssembler(inputCols=numeric_columns, outputCol = 'features')\n",
        "featureDf_test = assembler.transform(dfd_test)"
      ],
      "metadata": {
        "colab": {
          "base_uri": "https://localhost:8080/"
        },
        "id": "xBktl2pVUk6c",
        "outputId": "8b4c3e21-4634-442d-ca76-86124aff0090"
      },
      "execution_count": null,
      "outputs": [
        {
          "output_type": "stream",
          "name": "stdout",
          "text": [
            "['mean', 'min', 'max', 'mxsig', 'dist', 'ca1', 'ca2', 'ca3', 'ca4', 'ca5', 'cd1', 'cd2', 'cd3', 'cd4', 'cd5', 'ca12', 'ca22', 'ca32', 'ca42', 'ca52', 'cd12', 'cd22', 'cd32', 'cd42', 'cd52', 'minmax']\n"
          ]
        }
      ]
    },
    {
      "cell_type": "markdown",
      "source": [
        "# Save predictions in CSV"
      ],
      "metadata": {
        "id": "4RWBURBvMZob"
      }
    },
    {
      "cell_type": "code",
      "execution_count": null,
      "metadata": {
        "id": "vR-wX_LZ7Uyc",
        "colab": {
          "base_uri": "https://localhost:8080/"
        },
        "outputId": "d0b50d90-260f-41b7-b324-f8e7bb6fe25f"
      },
      "outputs": [
        {
          "output_type": "stream",
          "name": "stdout",
          "text": [
            "+------------------+-------------------+------------------+------------------+------------------+------------------+------------------+------------------+------------------+------------------+------------------+------------------+------------------+------------------+------------------+------------------+------------------+------------------+------------------+------------------+--------------------+--------------------+--------------------+--------------------+--------------------+------------------+--------------------+--------------------+--------------------+----------+\n",
            "|              mean|                min|               max|             mxsig|              dist|               ca1|               ca2|               ca3|               ca4|               ca5|               cd1|               cd2|               cd3|               cd4|               cd5|              ca12|              ca22|              ca32|              ca42|              ca52|                cd12|                cd22|                cd32|                cd42|                cd52|            minmax|            features|       rawPrediction|         probability|prediction|\n",
            "+------------------+-------------------+------------------+------------------+------------------+------------------+------------------+------------------+------------------+------------------+------------------+------------------+------------------+------------------+------------------+------------------+------------------+------------------+------------------+------------------+--------------------+--------------------+--------------------+--------------------+--------------------+------------------+--------------------+--------------------+--------------------+----------+\n",
            "| 52.69150161743164|  -442.888916015625|258.47674560546875| 864.7535400390625| 193.0240936279297| 98.80821990966797| 186.5292510986328| 34.07368850708008|22.901357650756836| 29.83992576599121| 5.264567852020264|11.371909141540527| 1.274459719657898| 1.070554256439209|1.3398023843765259| 98.73320007324219|183.93069458007812| 34.14169692993164|24.846506118774414| 31.16962432861328| 0.05583454295992851| 0.06502022594213486| 0.01896357536315918|0.021802110597491264|0.021796682849526405|  2369.18798828125|[52.6915016174316...|[-0.6145158020649...|[0.22635096259897...|       1.0|\n",
            "|32.719303131103516|-100.34381103515625| 83.95259857177734|113.74273681640625| 132.7278594970703| 45.27460861206055|144.18499755859375|14.518258094787598|12.473522186279297|14.691767692565918| 2.675172805786133| 4.174445629119873| 0.947432279586792|0.7402108311653137|0.6077634692192078|45.007232666015625|144.03306579589844|14.426125526428223|12.312026977539062|14.728264808654785| 0.03814014792442322| 0.05566239729523659|0.018086520954966545|0.014458035118877888|0.011895231902599335| 559.5726928710938|[32.7193031311035...|[2.11725867097226...|[0.98572006982059...|       0.0|\n",
            "|30.286930084228516| -83.27371215820312|129.21629333496094| 118.2410888671875|103.95726776123047|  37.7129020690918| 97.74240112304688| 28.99821662902832|  26.8587589263916|22.618703842163086| 2.708531141281128| 4.662654399871826| 1.089053988456726|1.1023005247116089|0.9610198140144348| 38.44491958618164|101.46562957763672|28.522737503051758|26.679893493652344|22.327821731567383|0.047083985060453415| 0.04924636334180832|  0.0157497376203537|0.017994405701756477|0.017699144780635834|430.87786865234375|[30.2869300842285...|[2.08292816339466...|[0.98472065862833...|       0.0|\n",
            "|23.264942169189453|-112.12841033935547| 101.7387466430664|179.88914489746094| 86.92513275146484| 48.23591995239258| 70.95999145507812|18.464662551879883|11.044635772705078|15.439070701599121|2.6421103477478027| 4.389138698577881|1.0319886207580566|0.8423119187355042|0.8835091590881348| 49.96696090698242| 74.18688201904297| 18.46494483947754|11.152915000915527|15.382659912109375|0.045666616410017014| 0.06910955160856247|0.015287523157894611|0.014029569923877716|0.017067890614271164|   378.66650390625|[23.2649421691894...|[2.14451548161850...|[0.98646743035295...|       0.0|\n",
            "|23.232954025268555| -85.97960662841797| 88.55935668945312|101.52405548095703|  81.6119613647461| 33.22805404663086| 80.13396453857422|17.490915298461914|17.105501174926758| 16.01540756225586| 2.866450548171997| 4.997642993927002|0.9028699994087219|0.9981427192687988|0.9179866313934326| 32.89155960083008| 80.43790435791016|17.665895462036133| 18.05482292175293|15.835579872131348| 0.04649871215224266| 0.07452353835105896| 0.01983148604631424|0.018713759258389473|0.020036423578858376| 436.3971862792969|[23.2329540252685...|[2.17628304820344...|[0.98728989165210...|       0.0|\n",
            "|24.151857376098633|-129.65853881835938| 59.05258560180664| 151.9837646484375| 82.30642700195312|24.327341079711914| 73.73160552978516| 32.85529327392578| 19.94402503967285|19.778841018676758|1.1322054862976074|2.3270251750946045|1.3910566568374634|0.7596995234489441|  0.85188227891922| 24.15746307373047|  72.9609146118164| 32.32094955444336|19.723995208740234| 19.90398406982422|0.021497245877981186|0.025381987914443016|0.020089605823159218|0.013030660338699818|0.014440951868891716|478.86309814453125|[24.1518573760986...|[-0.7377771690264...|[0.18609984953775...|       1.0|\n",
            "| 33.11391830444336|-107.41737365722656|   120.54443359375| 78.39949798583984| 117.4881591796875| 55.67958068847656|113.32424926757812| 25.21586036682129|  17.9338321685791|21.803674697875977|2.7629120349884033| 4.049355983734131|1.1070278882980347|0.9363968372344971|0.8042719960212708| 54.87117385864258|   113.04150390625|24.992755889892578|18.146501541137695|21.690141677856445| 0.04325246438384056|0.055502135306596756|0.014013574458658695|0.013577526435256004|0.014788917265832424| 461.6341552734375|[33.1139183044433...|[2.12316934889978...|[0.98588551549424...|       0.0|\n",
            "|27.167753219604492|-207.74368286132812|125.10355377197266|   176.62353515625| 98.35504150390625|     54.7939453125|  85.2452163696289|17.476518630981445|15.447493553161621| 18.82131576538086| 3.229400873184204| 5.021998882293701| 1.042467713356018|0.9483015537261963|0.8890764117240906| 54.76831817626953| 85.79598236083984|17.769948959350586|15.423866271972656| 19.32593536376953|0.044301003217697144| 0.07389385998249054| 0.01533131580799818|0.014502940699458122|0.015591167844831944| 551.3718872070312|[27.1677532196044...|[1.64768143006075...|[0.96426938651051...|       0.0|\n",
            "|25.414777755737305|-119.83538055419922| 39.89228439331055|129.86624145507812| 82.13616180419922|23.880935668945312| 69.50872802734375|40.155879974365234|20.617860794067383|25.386802673339844|1.1298233270645142|2.3529717922210693|1.4831184148788452|0.9090372920036316|0.9388596415519714|24.062070846557617| 69.15337371826172|39.421749114990234|20.755645751953125| 25.18781280517578|  0.0226979348808527|0.024786291643977165| 0.02128206193447113|0.013449732214212418|0.018821660429239273|467.61798095703125|[25.4147777557373...|[-0.6306466152822...|[0.22075135011451...|       1.0|\n",
            "|  8.92394733428955| -22.28603744506836|26.676223754882812|22.841800689697266| 26.11998748779297| 8.598361015319824|19.186805725097656| 7.723252773284912| 9.802268028259277|17.674659729003906|0.7189962267875671|1.0051202774047852|0.7936698794364929|0.5885000824928284| 1.058701992034912| 9.020085334777832|19.275463104248047| 7.936832904815674| 9.718223571777344| 18.05557632446289| 0.01916600950062275|0.020662259310483932| 0.01811813749372959|0.015899475663900375|0.023864498361945152|  70.6892318725586|[8.92394733428955...|[2.17981915434318...|[0.98737833258746...|       0.0|\n",
            "+------------------+-------------------+------------------+------------------+------------------+------------------+------------------+------------------+------------------+------------------+------------------+------------------+------------------+------------------+------------------+------------------+------------------+------------------+------------------+------------------+--------------------+--------------------+--------------------+--------------------+--------------------+------------------+--------------------+--------------------+--------------------+----------+\n",
            "only showing top 10 rows\n",
            "\n"
          ]
        }
      ],
      "source": [
        "predictions = gbtmodel.transform(featureDf_test)\n",
        "predictions.show(10)"
      ]
    },
    {
      "cell_type": "code",
      "execution_count": null,
      "metadata": {
        "id": "s4jIIQKm9wna",
        "colab": {
          "base_uri": "https://localhost:8080/"
        },
        "outputId": "8111a376-6765-49f1-c53b-9144899dd0e2"
      },
      "outputs": [
        {
          "output_type": "stream",
          "name": "stdout",
          "text": [
            "1\n",
            "1200\n",
            "+---+-------+\n",
            "| Id|Outcome|\n",
            "+---+-------+\n",
            "|  0|      1|\n",
            "|  1|      0|\n",
            "|  2|      0|\n",
            "|  3|      0|\n",
            "|  4|      0|\n",
            "|  5|      1|\n",
            "|  6|      0|\n",
            "|  7|      0|\n",
            "|  8|      1|\n",
            "|  9|      0|\n",
            "| 10|      0|\n",
            "| 11|      0|\n",
            "| 12|      0|\n",
            "| 13|      1|\n",
            "| 14|      0|\n",
            "| 15|      0|\n",
            "| 16|      0|\n",
            "| 17|      0|\n",
            "| 18|      0|\n",
            "| 19|      0|\n",
            "+---+-------+\n",
            "only showing top 20 rows\n",
            "\n"
          ]
        }
      ],
      "source": [
        "prediction = predictions.select(\"prediction\").collect()\n",
        "print(int(prediction[0].__getitem__(\"prediction\")))\n",
        "\n",
        "csv_df = spark.createDataFrame([\n",
        "                                (i, int(prediction[i].__getitem__(\"prediction\"))) for i in range(1200)\n",
        "], [\"Id\", \"Outcome\"])\n",
        "print(csv_df.count())\n",
        "csv_df.show()"
      ]
    },
    {
      "cell_type": "code",
      "execution_count": null,
      "metadata": {
        "id": "jHv9zLbrAqoU"
      },
      "outputs": [],
      "source": [
        "csv_df.coalesce(1).write.format('com.databricks.spark.csv').save('Predictions0.csv',header = 'true')"
      ]
    }
  ],
  "metadata": {
    "colab": {
      "collapsed_sections": [
        "0x4-gwg1M9QV",
        "HTakaNkUOsWr",
        "4U-41rLCO0C9",
        "PXrWvEVzjZcB",
        "VSGwyXzDkh26",
        "5zW2znWAEZs5",
        "Lz7x9sQGFuj-",
        "csIvCvufECiO"
      ],
      "name": "Final_notebook_wavelet_DataScience",
      "provenance": []
    },
    "kernelspec": {
      "display_name": "Python 3",
      "name": "python3"
    },
    "language_info": {
      "name": "python"
    }
  },
  "nbformat": 4,
  "nbformat_minor": 0
}